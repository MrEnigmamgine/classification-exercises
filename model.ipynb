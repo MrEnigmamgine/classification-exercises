{
 "cells": [
  {
   "cell_type": "code",
   "execution_count": 1,
   "metadata": {},
   "outputs": [],
   "source": [
    "# General DS Imports\n",
    "import matplotlib.pyplot as plt\n",
    "import numpy as np\n",
    "import pandas as pd\n",
    "import seaborn as sns\n",
    "# Decision Tree and Model Evaluation Imports\n",
    "from sklearn.tree import DecisionTreeClassifier, plot_tree, export_text\n",
    "from sklearn.model_selection import train_test_split\n",
    "from sklearn.metrics import classification_report, confusion_matrix, plot_confusion_matrix\n",
    "import sklearn.metrics as sklm"
   ]
  },
  {
   "cell_type": "code",
   "execution_count": 2,
   "metadata": {},
   "outputs": [],
   "source": [
    "import prepare\n",
    "import acquire"
   ]
  },
  {
   "cell_type": "markdown",
   "id": "8012a733",
   "metadata": {},
   "source": [
    "\n",
    "# Exercises\n",
    "\n",
    "Using the titanic data, in your classification-exercises repository, create a notebook, `model.ipynb` where you will do the following:\n",
    "\n"
   ]
  },
  {
   "cell_type": "markdown",
   "metadata": {},
   "source": [
    "1. What is your baseline prediction? What is your baseline accuracy? remember: your baseline prediction for a classification problem is predicting the most prevelant class in the training dataset (the mode). When you make those predictions, what is your accuracy? This is your baseline accuracy."
   ]
  },
  {
   "cell_type": "code",
   "execution_count": 3,
   "metadata": {},
   "outputs": [
    {
     "data": {
      "text/plain": [
       "((498, 12), (214, 12), (179, 12))"
      ]
     },
     "execution_count": 3,
     "metadata": {},
     "output_type": "execute_result"
    }
   ],
   "source": [
    "df = acquire.get_titanic_data()\n",
    "df = prepare.prep_titanic(df)\n",
    "# df.head()\n",
    "train, validate, test = prepare.train_validate_test_split(df)\n",
    "train.shape, validate.shape, test.shape"
   ]
  },
  {
   "cell_type": "code",
   "execution_count": 4,
   "metadata": {},
   "outputs": [
    {
     "data": {
      "text/plain": [
       "0    302\n",
       "1    196\n",
       "Name: survived, dtype: int64"
      ]
     },
     "execution_count": 4,
     "metadata": {},
     "output_type": "execute_result"
    }
   ],
   "source": [
    "train.survived.value_counts() # Baseline = everyone dies.\n"
   ]
  },
  {
   "cell_type": "code",
   "execution_count": 5,
   "metadata": {},
   "outputs": [
    {
     "data": {
      "text/plain": [
       "0"
      ]
     },
     "execution_count": 5,
     "metadata": {},
     "output_type": "execute_result"
    }
   ],
   "source": [
    "train.survived.mode()[0]"
   ]
  },
  {
   "cell_type": "code",
   "execution_count": 6,
   "metadata": {},
   "outputs": [
    {
     "data": {
      "text/plain": [
       "689    0\n",
       "84     0\n",
       "738    0\n",
       "441    0\n",
       "643    0\n",
       "Name: model_baseline, dtype: int64"
      ]
     },
     "execution_count": 6,
     "metadata": {},
     "output_type": "execute_result"
    }
   ],
   "source": [
    "train['model_baseline'] = train.survived.mode()[0]\n",
    "train.model_baseline.head()"
   ]
  },
  {
   "cell_type": "code",
   "execution_count": 7,
   "metadata": {},
   "outputs": [
    {
     "name": "stderr",
     "output_type": "stream",
     "text": [
      "c:\\Users\\Crux\\AppData\\Local\\Programs\\Python\\Python310\\lib\\site-packages\\sklearn\\metrics\\_classification.py:1327: UndefinedMetricWarning: Precision and F-score are ill-defined and being set to 0.0 in labels with no predicted samples. Use `zero_division` parameter to control this behavior.\n",
      "  _warn_prf(average, modifier, msg_start, len(result))\n",
      "c:\\Users\\Crux\\AppData\\Local\\Programs\\Python\\Python310\\lib\\site-packages\\sklearn\\metrics\\_classification.py:1327: UndefinedMetricWarning: Precision and F-score are ill-defined and being set to 0.0 in labels with no predicted samples. Use `zero_division` parameter to control this behavior.\n",
      "  _warn_prf(average, modifier, msg_start, len(result))\n",
      "c:\\Users\\Crux\\AppData\\Local\\Programs\\Python\\Python310\\lib\\site-packages\\sklearn\\metrics\\_classification.py:1327: UndefinedMetricWarning: Precision and F-score are ill-defined and being set to 0.0 in labels with no predicted samples. Use `zero_division` parameter to control this behavior.\n",
      "  _warn_prf(average, modifier, msg_start, len(result))\n"
     ]
    },
    {
     "data": {
      "text/html": [
       "<div>\n",
       "<style scoped>\n",
       "    .dataframe tbody tr th:only-of-type {\n",
       "        vertical-align: middle;\n",
       "    }\n",
       "\n",
       "    .dataframe tbody tr th {\n",
       "        vertical-align: top;\n",
       "    }\n",
       "\n",
       "    .dataframe thead th {\n",
       "        text-align: right;\n",
       "    }\n",
       "</style>\n",
       "<table border=\"1\" class=\"dataframe\">\n",
       "  <thead>\n",
       "    <tr style=\"text-align: right;\">\n",
       "      <th></th>\n",
       "      <th>0</th>\n",
       "      <th>1</th>\n",
       "      <th>accuracy</th>\n",
       "      <th>macro avg</th>\n",
       "      <th>weighted avg</th>\n",
       "    </tr>\n",
       "  </thead>\n",
       "  <tbody>\n",
       "    <tr>\n",
       "      <th>precision</th>\n",
       "      <td>0.606426</td>\n",
       "      <td>0.0</td>\n",
       "      <td>0.606426</td>\n",
       "      <td>0.303213</td>\n",
       "      <td>0.367752</td>\n",
       "    </tr>\n",
       "    <tr>\n",
       "      <th>recall</th>\n",
       "      <td>1.000000</td>\n",
       "      <td>0.0</td>\n",
       "      <td>0.606426</td>\n",
       "      <td>0.500000</td>\n",
       "      <td>0.606426</td>\n",
       "    </tr>\n",
       "    <tr>\n",
       "      <th>f1-score</th>\n",
       "      <td>0.755000</td>\n",
       "      <td>0.0</td>\n",
       "      <td>0.606426</td>\n",
       "      <td>0.377500</td>\n",
       "      <td>0.457851</td>\n",
       "    </tr>\n",
       "    <tr>\n",
       "      <th>support</th>\n",
       "      <td>302.000000</td>\n",
       "      <td>196.0</td>\n",
       "      <td>0.606426</td>\n",
       "      <td>498.000000</td>\n",
       "      <td>498.000000</td>\n",
       "    </tr>\n",
       "  </tbody>\n",
       "</table>\n",
       "</div>"
      ],
      "text/plain": [
       "                    0      1  accuracy   macro avg  weighted avg\n",
       "precision    0.606426    0.0  0.606426    0.303213      0.367752\n",
       "recall       1.000000    0.0  0.606426    0.500000      0.606426\n",
       "f1-score     0.755000    0.0  0.606426    0.377500      0.457851\n",
       "support    302.000000  196.0  0.606426  498.000000    498.000000"
      ]
     },
     "execution_count": 7,
     "metadata": {},
     "output_type": "execute_result"
    }
   ],
   "source": [
    "pd.DataFrame(classification_report(train.survived, train.model_baseline, output_dict=True))"
   ]
  },
  {
   "cell_type": "code",
   "execution_count": 8,
   "metadata": {},
   "outputs": [
    {
     "data": {
      "text/plain": [
       "0.606425702811245"
      ]
     },
     "execution_count": 8,
     "metadata": {},
     "output_type": "execute_result"
    }
   ],
   "source": [
    "1- train.survived.mean() #We can just predict accuracy this way"
   ]
  },
  {
   "cell_type": "markdown",
   "metadata": {},
   "source": [
    "2. Fit the decision tree classifier to your training sample and transform (i.e. make predictions on the training sample)\n",
    "\n"
   ]
  },
  {
   "cell_type": "code",
   "execution_count": 35,
   "metadata": {},
   "outputs": [],
   "source": [
    "def split_x_y(df, target, features):\n",
    "    x = df[features]\n",
    "    y = df[target]\n",
    "    return x, y"
   ]
  },
  {
   "cell_type": "code",
   "execution_count": 9,
   "metadata": {},
   "outputs": [
    {
     "data": {
      "text/html": [
       "<div>\n",
       "<style scoped>\n",
       "    .dataframe tbody tr th:only-of-type {\n",
       "        vertical-align: middle;\n",
       "    }\n",
       "\n",
       "    .dataframe tbody tr th {\n",
       "        vertical-align: top;\n",
       "    }\n",
       "\n",
       "    .dataframe thead th {\n",
       "        text-align: right;\n",
       "    }\n",
       "</style>\n",
       "<table border=\"1\" class=\"dataframe\">\n",
       "  <thead>\n",
       "    <tr style=\"text-align: right;\">\n",
       "      <th></th>\n",
       "      <th>pclass</th>\n",
       "      <th>sex_male</th>\n",
       "      <th>fare</th>\n",
       "      <th>alone</th>\n",
       "      <th>embark_town_Queenstown</th>\n",
       "      <th>embark_town_Southampton</th>\n",
       "    </tr>\n",
       "  </thead>\n",
       "  <tbody>\n",
       "    <tr>\n",
       "      <th>689</th>\n",
       "      <td>1</td>\n",
       "      <td>0</td>\n",
       "      <td>211.3375</td>\n",
       "      <td>0</td>\n",
       "      <td>0</td>\n",
       "      <td>1</td>\n",
       "    </tr>\n",
       "    <tr>\n",
       "      <th>84</th>\n",
       "      <td>2</td>\n",
       "      <td>0</td>\n",
       "      <td>10.5000</td>\n",
       "      <td>1</td>\n",
       "      <td>0</td>\n",
       "      <td>1</td>\n",
       "    </tr>\n",
       "    <tr>\n",
       "      <th>738</th>\n",
       "      <td>3</td>\n",
       "      <td>1</td>\n",
       "      <td>7.8958</td>\n",
       "      <td>1</td>\n",
       "      <td>0</td>\n",
       "      <td>1</td>\n",
       "    </tr>\n",
       "    <tr>\n",
       "      <th>441</th>\n",
       "      <td>3</td>\n",
       "      <td>1</td>\n",
       "      <td>9.5000</td>\n",
       "      <td>1</td>\n",
       "      <td>0</td>\n",
       "      <td>1</td>\n",
       "    </tr>\n",
       "    <tr>\n",
       "      <th>643</th>\n",
       "      <td>3</td>\n",
       "      <td>1</td>\n",
       "      <td>56.4958</td>\n",
       "      <td>1</td>\n",
       "      <td>0</td>\n",
       "      <td>1</td>\n",
       "    </tr>\n",
       "  </tbody>\n",
       "</table>\n",
       "</div>"
      ],
      "text/plain": [
       "     pclass  sex_male      fare  alone  embark_town_Queenstown  \\\n",
       "689       1         0  211.3375      0                       0   \n",
       "84        2         0   10.5000      1                       0   \n",
       "738       3         1    7.8958      1                       0   \n",
       "441       3         1    9.5000      1                       0   \n",
       "643       3         1   56.4958      1                       0   \n",
       "\n",
       "     embark_town_Southampton  \n",
       "689                        1  \n",
       "84                         1  \n",
       "738                        1  \n",
       "441                        1  \n",
       "643                        1  "
      ]
     },
     "execution_count": 9,
     "metadata": {},
     "output_type": "execute_result"
    }
   ],
   "source": [
    "y_train = train.survived\n",
    "x_train = train[['pclass','sex_male','fare','alone','embark_town_Queenstown','embark_town_Southampton']]\n",
    "x_train.head()"
   ]
  },
  {
   "cell_type": "code",
   "execution_count": 10,
   "metadata": {},
   "outputs": [],
   "source": [
    "tree = DecisionTreeClassifier(max_depth = 3)"
   ]
  },
  {
   "cell_type": "code",
   "execution_count": 11,
   "metadata": {},
   "outputs": [
    {
     "data": {
      "text/html": [
       "<style>#sk-container-id-1 {color: black;background-color: white;}#sk-container-id-1 pre{padding: 0;}#sk-container-id-1 div.sk-toggleable {background-color: white;}#sk-container-id-1 label.sk-toggleable__label {cursor: pointer;display: block;width: 100%;margin-bottom: 0;padding: 0.3em;box-sizing: border-box;text-align: center;}#sk-container-id-1 label.sk-toggleable__label-arrow:before {content: \"▸\";float: left;margin-right: 0.25em;color: #696969;}#sk-container-id-1 label.sk-toggleable__label-arrow:hover:before {color: black;}#sk-container-id-1 div.sk-estimator:hover label.sk-toggleable__label-arrow:before {color: black;}#sk-container-id-1 div.sk-toggleable__content {max-height: 0;max-width: 0;overflow: hidden;text-align: left;background-color: #f0f8ff;}#sk-container-id-1 div.sk-toggleable__content pre {margin: 0.2em;color: black;border-radius: 0.25em;background-color: #f0f8ff;}#sk-container-id-1 input.sk-toggleable__control:checked~div.sk-toggleable__content {max-height: 200px;max-width: 100%;overflow: auto;}#sk-container-id-1 input.sk-toggleable__control:checked~label.sk-toggleable__label-arrow:before {content: \"▾\";}#sk-container-id-1 div.sk-estimator input.sk-toggleable__control:checked~label.sk-toggleable__label {background-color: #d4ebff;}#sk-container-id-1 div.sk-label input.sk-toggleable__control:checked~label.sk-toggleable__label {background-color: #d4ebff;}#sk-container-id-1 input.sk-hidden--visually {border: 0;clip: rect(1px 1px 1px 1px);clip: rect(1px, 1px, 1px, 1px);height: 1px;margin: -1px;overflow: hidden;padding: 0;position: absolute;width: 1px;}#sk-container-id-1 div.sk-estimator {font-family: monospace;background-color: #f0f8ff;border: 1px dotted black;border-radius: 0.25em;box-sizing: border-box;margin-bottom: 0.5em;}#sk-container-id-1 div.sk-estimator:hover {background-color: #d4ebff;}#sk-container-id-1 div.sk-parallel-item::after {content: \"\";width: 100%;border-bottom: 1px solid gray;flex-grow: 1;}#sk-container-id-1 div.sk-label:hover label.sk-toggleable__label {background-color: #d4ebff;}#sk-container-id-1 div.sk-serial::before {content: \"\";position: absolute;border-left: 1px solid gray;box-sizing: border-box;top: 0;bottom: 0;left: 50%;z-index: 0;}#sk-container-id-1 div.sk-serial {display: flex;flex-direction: column;align-items: center;background-color: white;padding-right: 0.2em;padding-left: 0.2em;position: relative;}#sk-container-id-1 div.sk-item {position: relative;z-index: 1;}#sk-container-id-1 div.sk-parallel {display: flex;align-items: stretch;justify-content: center;background-color: white;position: relative;}#sk-container-id-1 div.sk-item::before, #sk-container-id-1 div.sk-parallel-item::before {content: \"\";position: absolute;border-left: 1px solid gray;box-sizing: border-box;top: 0;bottom: 0;left: 50%;z-index: -1;}#sk-container-id-1 div.sk-parallel-item {display: flex;flex-direction: column;z-index: 1;position: relative;background-color: white;}#sk-container-id-1 div.sk-parallel-item:first-child::after {align-self: flex-end;width: 50%;}#sk-container-id-1 div.sk-parallel-item:last-child::after {align-self: flex-start;width: 50%;}#sk-container-id-1 div.sk-parallel-item:only-child::after {width: 0;}#sk-container-id-1 div.sk-dashed-wrapped {border: 1px dashed gray;margin: 0 0.4em 0.5em 0.4em;box-sizing: border-box;padding-bottom: 0.4em;background-color: white;}#sk-container-id-1 div.sk-label label {font-family: monospace;font-weight: bold;display: inline-block;line-height: 1.2em;}#sk-container-id-1 div.sk-label-container {text-align: center;}#sk-container-id-1 div.sk-container {/* jupyter's `normalize.less` sets `[hidden] { display: none; }` but bootstrap.min.css set `[hidden] { display: none !important; }` so we also need the `!important` here to be able to override the default hidden behavior on the sphinx rendered scikit-learn.org. See: https://github.com/scikit-learn/scikit-learn/issues/21755 */display: inline-block !important;position: relative;}#sk-container-id-1 div.sk-text-repr-fallback {display: none;}</style><div id=\"sk-container-id-1\" class=\"sk-top-container\"><div class=\"sk-text-repr-fallback\"><pre>DecisionTreeClassifier(max_depth=3)</pre><b>In a Jupyter environment, please rerun this cell to show the HTML representation or trust the notebook. <br />On GitHub, the HTML representation is unable to render, please try loading this page with nbviewer.org.</b></div><div class=\"sk-container\" hidden><div class=\"sk-item\"><div class=\"sk-estimator sk-toggleable\"><input class=\"sk-toggleable__control sk-hidden--visually\" id=\"sk-estimator-id-1\" type=\"checkbox\" checked><label for=\"sk-estimator-id-1\" class=\"sk-toggleable__label sk-toggleable__label-arrow\">DecisionTreeClassifier</label><div class=\"sk-toggleable__content\"><pre>DecisionTreeClassifier(max_depth=3)</pre></div></div></div></div></div>"
      ],
      "text/plain": [
       "DecisionTreeClassifier(max_depth=3)"
      ]
     },
     "execution_count": 11,
     "metadata": {},
     "output_type": "execute_result"
    }
   ],
   "source": [
    "tree.fit(x_train, y_train)"
   ]
  },
  {
   "cell_type": "code",
   "execution_count": 12,
   "metadata": {},
   "outputs": [
    {
     "data": {
      "text/plain": [
       "array([0, 1], dtype=int64)"
      ]
     },
     "execution_count": 12,
     "metadata": {},
     "output_type": "execute_result"
    }
   ],
   "source": [
    "tree.classes_"
   ]
  },
  {
   "cell_type": "code",
   "execution_count": 13,
   "metadata": {},
   "outputs": [
    {
     "name": "stdout",
     "output_type": "stream",
     "text": [
      "|--- sex_male <= 0.50\n",
      "|   |--- pclass <= 2.50\n",
      "|   |   |--- fare <= 26.12\n",
      "|   |   |   |--- class: 1\n",
      "|   |   |--- fare >  26.12\n",
      "|   |   |   |--- class: 1\n",
      "|   |--- pclass >  2.50\n",
      "|   |   |--- embark_town_Southampton <= 0.50\n",
      "|   |   |   |--- class: 1\n",
      "|   |   |--- embark_town_Southampton >  0.50\n",
      "|   |   |   |--- class: 0\n",
      "|--- sex_male >  0.50\n",
      "|   |--- pclass <= 1.50\n",
      "|   |   |--- fare <= 26.11\n",
      "|   |   |   |--- class: 0\n",
      "|   |   |--- fare >  26.11\n",
      "|   |   |   |--- class: 0\n",
      "|   |--- pclass >  1.50\n",
      "|   |   |--- fare <= 7.91\n",
      "|   |   |   |--- class: 0\n",
      "|   |   |--- fare >  7.91\n",
      "|   |   |   |--- class: 0\n",
      "\n"
     ]
    }
   ],
   "source": [
    "print(\n",
    "    export_text(decision_tree=tree, feature_names=x_train.columns.tolist())\n",
    ")"
   ]
  },
  {
   "cell_type": "code",
   "execution_count": 14,
   "metadata": {},
   "outputs": [
    {
     "data": {
      "image/png": "[encoded data removed]",
      "text/plain": [
       "<Figure size 2160x1080 with 1 Axes>"
      ]
     },
     "metadata": {
      "needs_background": "light"
     },
     "output_type": "display_data"
    }
   ],
   "source": [
    "plt.figure(figsize=(30, 15))\n",
    "plot_tree(tree, feature_names=x_train.columns, class_names=['died','survived'])\n",
    "plt.show()"
   ]
  },
  {
   "cell_type": "markdown",
   "metadata": {},
   "source": [
    "3. Evaluate your in-sample results using the model score, confusion matrix, and classification report.\n",
    "\n"
   ]
  },
  {
   "cell_type": "code",
   "execution_count": 15,
   "metadata": {},
   "outputs": [
    {
     "name": "stdout",
     "output_type": "stream",
     "text": [
      "              precision    recall  f1-score   support\n",
      "\n",
      "           0       0.77      0.95      0.85       302\n",
      "           1       0.88      0.57      0.69       196\n",
      "\n",
      "    accuracy                           0.80       498\n",
      "   macro avg       0.82      0.76      0.77       498\n",
      "weighted avg       0.81      0.80      0.79       498\n",
      "\n"
     ]
    }
   ],
   "source": [
    "predictions = tree.predict(x_train)\n",
    "actual = y_train\n",
    "print(classification_report(actual, predictions))"
   ]
  },
  {
   "cell_type": "code",
   "execution_count": 16,
   "metadata": {},
   "outputs": [
    {
     "data": {
      "text/html": [
       "<div>\n",
       "<style scoped>\n",
       "    .dataframe tbody tr th:only-of-type {\n",
       "        vertical-align: middle;\n",
       "    }\n",
       "\n",
       "    .dataframe tbody tr th {\n",
       "        vertical-align: top;\n",
       "    }\n",
       "\n",
       "    .dataframe thead th {\n",
       "        text-align: right;\n",
       "    }\n",
       "</style>\n",
       "<table border=\"1\" class=\"dataframe\">\n",
       "  <thead>\n",
       "    <tr style=\"text-align: right;\">\n",
       "      <th>col_0</th>\n",
       "      <th>0</th>\n",
       "      <th>1</th>\n",
       "    </tr>\n",
       "    <tr>\n",
       "      <th>survived</th>\n",
       "      <th></th>\n",
       "      <th></th>\n",
       "    </tr>\n",
       "  </thead>\n",
       "  <tbody>\n",
       "    <tr>\n",
       "      <th>0</th>\n",
       "      <td>286</td>\n",
       "      <td>16</td>\n",
       "    </tr>\n",
       "    <tr>\n",
       "      <th>1</th>\n",
       "      <td>84</td>\n",
       "      <td>112</td>\n",
       "    </tr>\n",
       "  </tbody>\n",
       "</table>\n",
       "</div>"
      ],
      "text/plain": [
       "col_0       0    1\n",
       "survived          \n",
       "0         286   16\n",
       "1          84  112"
      ]
     },
     "execution_count": 16,
     "metadata": {},
     "output_type": "execute_result"
    }
   ],
   "source": [
    "pd.crosstab(actual, predictions)"
   ]
  },
  {
   "cell_type": "code",
   "execution_count": 17,
   "metadata": {},
   "outputs": [],
   "source": [
    "def get_tn_fp_fn_tp_from_confusion_matrix(matrix):\n",
    "    tn, fp, fn, tp = matrix.ravel()\n",
    "    return tn, fp, fn, tp"
   ]
  },
  {
   "cell_type": "code",
   "execution_count": 18,
   "metadata": {},
   "outputs": [
    {
     "data": {
      "text/plain": [
       "(286, 16, 84, 112)"
      ]
     },
     "execution_count": 18,
     "metadata": {},
     "output_type": "execute_result"
    }
   ],
   "source": [
    "tn, fp, fn, tp = confusion_matrix(y_true=actual,y_pred=predictions).ravel()\n",
    "tn, fp, fn, tp\n"
   ]
  },
  {
   "cell_type": "markdown",
   "metadata": {},
   "source": [
    "4. Compute: Accuracy, true positive rate, false positive rate, true negative rate, false negative rate, precision, recall, f1-score, and support.\n",
    "\n"
   ]
  },
  {
   "cell_type": "code",
   "execution_count": 26,
   "metadata": {},
   "outputs": [
    {
     "data": {
      "text/plain": [
       "{'accuracy': 0.7991967871485943,\n",
       " 'true_positive_rate': 0.875,\n",
       " 'false_positive_rate': 0.125,\n",
       " 'true_negative_rate': 0.772972972972973,\n",
       " 'false_negative_rate': 0.22702702702702704,\n",
       " 'precision': 0.875,\n",
       " 'recall': 0.5714285714285714,\n",
       " 'f1-score': 0.691358024691358,\n",
       " 'support_negative': 302,\n",
       " 'support_positive': 196}"
      ]
     },
     "execution_count": 26,
     "metadata": {},
     "output_type": "execute_result"
    }
   ],
   "source": [
    "score = {\n",
    "        'accuracy' : sklm.accuracy_score(actual, predictions) ,\n",
    "        'true_positive_rate' : tp/(tp+fp) ,\n",
    "        'false_positive_rate' : fp/(tp+fp) ,\n",
    "        'true_negative_rate' : tn/(tn+fn) ,\n",
    "        'false_negative_rate' : fn/(tn+fn) ,\n",
    "        'precision' : sklm.precision_score(actual, predictions),\n",
    "        'recall'    : sklm.recall_score(actual, predictions),\n",
    "        'f1-score'  : sklm.f1_score(actual, predictions),\n",
    "        'support_negative' : actual.value_counts()[0],\n",
    "        'support_positive' : actual.value_counts()[1]\n",
    "        }\n",
    "score"
   ]
  },
  {
   "cell_type": "code",
   "execution_count": 31,
   "metadata": {},
   "outputs": [
    {
     "data": {
      "text/plain": [
       "{'0': {'precision': 0.772972972972973,\n",
       "  'recall': 0.9470198675496688,\n",
       "  'f1-score': 0.8511904761904762,\n",
       "  'support': 302},\n",
       " '1': {'precision': 0.875,\n",
       "  'recall': 0.5714285714285714,\n",
       "  'f1-score': 0.691358024691358,\n",
       "  'support': 196},\n",
       " 'accuracy': 0.7991967871485943,\n",
       " 'macro avg': {'precision': 0.8239864864864865,\n",
       "  'recall': 0.7592242194891201,\n",
       "  'f1-score': 0.7712742504409171,\n",
       "  'support': 498},\n",
       " 'weighted avg': {'precision': 0.8131281884293933,\n",
       "  'recall': 0.7991967871485943,\n",
       "  'f1-score': 0.788284531423755,\n",
       "  'support': 498}}"
      ]
     },
     "execution_count": 31,
     "metadata": {},
     "output_type": "execute_result"
    }
   ],
   "source": [
    "classification_report(actual, predictions, output_dict=True)"
   ]
  },
  {
   "cell_type": "markdown",
   "metadata": {},
   "source": [
    "5. Run through steps 2-4 using a different max_depth value.\n",
    "\n"
   ]
  },
  {
   "cell_type": "code",
   "execution_count": 86,
   "metadata": {},
   "outputs": [],
   "source": [
    "def test_tree(x, y, depth, score_x=None, score_y=None):\n",
    "    tree = DecisionTreeClassifier(max_depth = depth)\n",
    "    tree.fit(x, y)\n",
    "    predictions = tree.predict(score_x) if isinstance(score_x, pd.DataFrame) else tree.predict(x)\n",
    "    actual = score_y if isinstance(score_y, pd.Series) else y\n",
    "    tn, fp, fn, tp = confusion_matrix(y_true=actual,y_pred=predictions).ravel()\n",
    "    score = {\n",
    "        depth : {\n",
    "            'accuracy' : sklm.accuracy_score(actual, predictions) ,\n",
    "            'true_positive_rate' : tp/(tp+fp) ,\n",
    "            'false_positive_rate' : fp/(tp+fp) ,\n",
    "            'true_negative_rate' : tn/(tn+fn) ,\n",
    "            'false_negative_rate' : fn/(tn+fn) ,\n",
    "            'precision' : sklm.precision_score(actual, predictions),\n",
    "            'recall'    : sklm.recall_score(actual, predictions),\n",
    "            'f1-score'  : sklm.f1_score(actual, predictions),\n",
    "            'support_negative' : actual.value_counts()[0],\n",
    "            'support_positive' : actual.value_counts()[1]\n",
    "            }\n",
    "        }\n",
    "    return pd.DataFrame(score)\n",
    "    "
   ]
  },
  {
   "cell_type": "code",
   "execution_count": 65,
   "metadata": {},
   "outputs": [
    {
     "data": {
      "text/plain": [
       "NoneType"
      ]
     },
     "execution_count": 65,
     "metadata": {},
     "output_type": "execute_result"
    }
   ],
   "source": [
    "type(None)"
   ]
  },
  {
   "cell_type": "code",
   "execution_count": 87,
   "metadata": {},
   "outputs": [
    {
     "data": {
      "text/plain": [
       "['accuracy',\n",
       " 'f1-score',\n",
       " 'false_negative_rate',\n",
       " 'false_positive_rate',\n",
       " 'precision',\n",
       " 'recall',\n",
       " 'support_negative',\n",
       " 'support_positive',\n",
       " 'true_negative_rate',\n",
       " 'true_positive_rate']"
      ]
     },
     "execution_count": 87,
     "metadata": {},
     "output_type": "execute_result"
    }
   ],
   "source": [
    "test_tree(x_train, y_train, 2).index.tolist()"
   ]
  },
  {
   "cell_type": "code",
   "execution_count": 51,
   "metadata": {},
   "outputs": [],
   "source": [
    "my_index =  ['accuracy',\n",
    "            'precision',\n",
    "            'recall',\n",
    "            'f1-score',\n",
    "            'support_negative',\n",
    "            'support_positive',\n",
    "            'false_negative_rate',\n",
    "            'false_positive_rate',\n",
    "            'true_negative_rate',\n",
    "            'true_positive_rate']"
   ]
  },
  {
   "cell_type": "markdown",
   "metadata": {},
   "source": [
    "6. Which model performs better on your in-sample data?\n",
    "\n"
   ]
  },
  {
   "cell_type": "code",
   "execution_count": 75,
   "metadata": {},
   "outputs": [
    {
     "data": {
      "text/html": [
       "<div>\n",
       "<style scoped>\n",
       "    .dataframe tbody tr th:only-of-type {\n",
       "        vertical-align: middle;\n",
       "    }\n",
       "\n",
       "    .dataframe tbody tr th {\n",
       "        vertical-align: top;\n",
       "    }\n",
       "\n",
       "    .dataframe thead th {\n",
       "        text-align: right;\n",
       "    }\n",
       "</style>\n",
       "<table border=\"1\" class=\"dataframe\">\n",
       "  <thead>\n",
       "    <tr style=\"text-align: right;\">\n",
       "      <th></th>\n",
       "      <th>1</th>\n",
       "      <th>2</th>\n",
       "      <th>3</th>\n",
       "      <th>4</th>\n",
       "      <th>5</th>\n",
       "      <th>6</th>\n",
       "      <th>7</th>\n",
       "      <th>8</th>\n",
       "      <th>9</th>\n",
       "      <th>10</th>\n",
       "    </tr>\n",
       "  </thead>\n",
       "  <tbody>\n",
       "    <tr>\n",
       "      <th>accuracy</th>\n",
       "      <td>0.775100</td>\n",
       "      <td>0.777108</td>\n",
       "      <td>0.799197</td>\n",
       "      <td>0.819277</td>\n",
       "      <td>0.835341</td>\n",
       "      <td>0.855422</td>\n",
       "      <td>0.879518</td>\n",
       "      <td>0.895582</td>\n",
       "      <td>0.899598</td>\n",
       "      <td>0.911647</td>\n",
       "    </tr>\n",
       "    <tr>\n",
       "      <th>precision</th>\n",
       "      <td>0.735955</td>\n",
       "      <td>0.956989</td>\n",
       "      <td>0.875000</td>\n",
       "      <td>0.839744</td>\n",
       "      <td>0.847561</td>\n",
       "      <td>0.792453</td>\n",
       "      <td>0.904762</td>\n",
       "      <td>0.900000</td>\n",
       "      <td>0.892473</td>\n",
       "      <td>0.900000</td>\n",
       "    </tr>\n",
       "    <tr>\n",
       "      <th>recall</th>\n",
       "      <td>0.668367</td>\n",
       "      <td>0.454082</td>\n",
       "      <td>0.571429</td>\n",
       "      <td>0.668367</td>\n",
       "      <td>0.709184</td>\n",
       "      <td>0.857143</td>\n",
       "      <td>0.775510</td>\n",
       "      <td>0.826531</td>\n",
       "      <td>0.846939</td>\n",
       "      <td>0.872449</td>\n",
       "    </tr>\n",
       "    <tr>\n",
       "      <th>f1-score</th>\n",
       "      <td>0.700535</td>\n",
       "      <td>0.615917</td>\n",
       "      <td>0.691358</td>\n",
       "      <td>0.744318</td>\n",
       "      <td>0.772222</td>\n",
       "      <td>0.823529</td>\n",
       "      <td>0.835165</td>\n",
       "      <td>0.861702</td>\n",
       "      <td>0.869110</td>\n",
       "      <td>0.886010</td>\n",
       "    </tr>\n",
       "    <tr>\n",
       "      <th>support_negative</th>\n",
       "      <td>302.000000</td>\n",
       "      <td>302.000000</td>\n",
       "      <td>302.000000</td>\n",
       "      <td>302.000000</td>\n",
       "      <td>302.000000</td>\n",
       "      <td>302.000000</td>\n",
       "      <td>302.000000</td>\n",
       "      <td>302.000000</td>\n",
       "      <td>302.000000</td>\n",
       "      <td>302.000000</td>\n",
       "    </tr>\n",
       "    <tr>\n",
       "      <th>support_positive</th>\n",
       "      <td>196.000000</td>\n",
       "      <td>196.000000</td>\n",
       "      <td>196.000000</td>\n",
       "      <td>196.000000</td>\n",
       "      <td>196.000000</td>\n",
       "      <td>196.000000</td>\n",
       "      <td>196.000000</td>\n",
       "      <td>196.000000</td>\n",
       "      <td>196.000000</td>\n",
       "      <td>196.000000</td>\n",
       "    </tr>\n",
       "    <tr>\n",
       "      <th>false_negative_rate</th>\n",
       "      <td>0.203125</td>\n",
       "      <td>0.264198</td>\n",
       "      <td>0.227027</td>\n",
       "      <td>0.190058</td>\n",
       "      <td>0.170659</td>\n",
       "      <td>0.097902</td>\n",
       "      <td>0.133333</td>\n",
       "      <td>0.106918</td>\n",
       "      <td>0.096154</td>\n",
       "      <td>0.081169</td>\n",
       "    </tr>\n",
       "    <tr>\n",
       "      <th>false_positive_rate</th>\n",
       "      <td>0.264045</td>\n",
       "      <td>0.043011</td>\n",
       "      <td>0.125000</td>\n",
       "      <td>0.160256</td>\n",
       "      <td>0.152439</td>\n",
       "      <td>0.207547</td>\n",
       "      <td>0.095238</td>\n",
       "      <td>0.100000</td>\n",
       "      <td>0.107527</td>\n",
       "      <td>0.100000</td>\n",
       "    </tr>\n",
       "    <tr>\n",
       "      <th>true_negative_rate</th>\n",
       "      <td>0.796875</td>\n",
       "      <td>0.735802</td>\n",
       "      <td>0.772973</td>\n",
       "      <td>0.809942</td>\n",
       "      <td>0.829341</td>\n",
       "      <td>0.902098</td>\n",
       "      <td>0.866667</td>\n",
       "      <td>0.893082</td>\n",
       "      <td>0.903846</td>\n",
       "      <td>0.918831</td>\n",
       "    </tr>\n",
       "    <tr>\n",
       "      <th>true_positive_rate</th>\n",
       "      <td>0.735955</td>\n",
       "      <td>0.956989</td>\n",
       "      <td>0.875000</td>\n",
       "      <td>0.839744</td>\n",
       "      <td>0.847561</td>\n",
       "      <td>0.792453</td>\n",
       "      <td>0.904762</td>\n",
       "      <td>0.900000</td>\n",
       "      <td>0.892473</td>\n",
       "      <td>0.900000</td>\n",
       "    </tr>\n",
       "  </tbody>\n",
       "</table>\n",
       "</div>"
      ],
      "text/plain": [
       "                             1           2           3           4   \\\n",
       "accuracy               0.775100    0.777108    0.799197    0.819277   \n",
       "precision              0.735955    0.956989    0.875000    0.839744   \n",
       "recall                 0.668367    0.454082    0.571429    0.668367   \n",
       "f1-score               0.700535    0.615917    0.691358    0.744318   \n",
       "support_negative     302.000000  302.000000  302.000000  302.000000   \n",
       "support_positive     196.000000  196.000000  196.000000  196.000000   \n",
       "false_negative_rate    0.203125    0.264198    0.227027    0.190058   \n",
       "false_positive_rate    0.264045    0.043011    0.125000    0.160256   \n",
       "true_negative_rate     0.796875    0.735802    0.772973    0.809942   \n",
       "true_positive_rate     0.735955    0.956989    0.875000    0.839744   \n",
       "\n",
       "                             5           6           7           8   \\\n",
       "accuracy               0.835341    0.855422    0.879518    0.895582   \n",
       "precision              0.847561    0.792453    0.904762    0.900000   \n",
       "recall                 0.709184    0.857143    0.775510    0.826531   \n",
       "f1-score               0.772222    0.823529    0.835165    0.861702   \n",
       "support_negative     302.000000  302.000000  302.000000  302.000000   \n",
       "support_positive     196.000000  196.000000  196.000000  196.000000   \n",
       "false_negative_rate    0.170659    0.097902    0.133333    0.106918   \n",
       "false_positive_rate    0.152439    0.207547    0.095238    0.100000   \n",
       "true_negative_rate     0.829341    0.902098    0.866667    0.893082   \n",
       "true_positive_rate     0.847561    0.792453    0.904762    0.900000   \n",
       "\n",
       "                             9           10  \n",
       "accuracy               0.899598    0.911647  \n",
       "precision              0.892473    0.900000  \n",
       "recall                 0.846939    0.872449  \n",
       "f1-score               0.869110    0.886010  \n",
       "support_negative     302.000000  302.000000  \n",
       "support_positive     196.000000  196.000000  \n",
       "false_negative_rate    0.096154    0.081169  \n",
       "false_positive_rate    0.107527    0.100000  \n",
       "true_negative_rate     0.903846    0.918831  \n",
       "true_positive_rate     0.892473    0.900000  "
      ]
     },
     "execution_count": 75,
     "metadata": {},
     "output_type": "execute_result"
    }
   ],
   "source": [
    "depths = range(1,11)\n",
    "out = pd.DataFrame(index=my_index)\n",
    "for depth in depths:\n",
    "    temp = test_tree( x_train, y_train, depth)\n",
    "    out = pd.concat([out, temp], axis=1)\n",
    "out"
   ]
  },
  {
   "cell_type": "markdown",
   "metadata": {},
   "source": [
    "> the higher the depth the better it performs on in-sample data"
   ]
  },
  {
   "cell_type": "markdown",
   "metadata": {},
   "source": [
    "7. Which model performs best on your out-of-sample data, the validate set?\n",
    "\n"
   ]
  },
  {
   "cell_type": "code",
   "execution_count": 56,
   "metadata": {},
   "outputs": [],
   "source": [
    "features = ['pclass','sex_male','fare','alone','embark_town_Queenstown','embark_town_Southampton']\n",
    "x_validate, y_validate = split_x_y(validate, 'survived', features)\n"
   ]
  },
  {
   "cell_type": "code",
   "execution_count": 88,
   "metadata": {},
   "outputs": [
    {
     "data": {
      "text/html": [
       "<div>\n",
       "<style scoped>\n",
       "    .dataframe tbody tr th:only-of-type {\n",
       "        vertical-align: middle;\n",
       "    }\n",
       "\n",
       "    .dataframe tbody tr th {\n",
       "        vertical-align: top;\n",
       "    }\n",
       "\n",
       "    .dataframe thead th {\n",
       "        text-align: right;\n",
       "    }\n",
       "</style>\n",
       "<table border=\"1\" class=\"dataframe\">\n",
       "  <thead>\n",
       "    <tr style=\"text-align: right;\">\n",
       "      <th></th>\n",
       "      <th>1</th>\n",
       "      <th>2</th>\n",
       "      <th>3</th>\n",
       "      <th>4</th>\n",
       "      <th>5</th>\n",
       "      <th>6</th>\n",
       "      <th>7</th>\n",
       "      <th>8</th>\n",
       "      <th>9</th>\n",
       "      <th>10</th>\n",
       "    </tr>\n",
       "  </thead>\n",
       "  <tbody>\n",
       "    <tr>\n",
       "      <th>accuracy</th>\n",
       "      <td>0.803738</td>\n",
       "      <td>0.785047</td>\n",
       "      <td>0.813084</td>\n",
       "      <td>0.775701</td>\n",
       "      <td>0.785047</td>\n",
       "      <td>0.780374</td>\n",
       "      <td>0.771028</td>\n",
       "      <td>0.757009</td>\n",
       "      <td>0.752336</td>\n",
       "      <td>0.757009</td>\n",
       "    </tr>\n",
       "    <tr>\n",
       "      <th>precision</th>\n",
       "      <td>0.767123</td>\n",
       "      <td>0.948718</td>\n",
       "      <td>0.901961</td>\n",
       "      <td>0.761905</td>\n",
       "      <td>0.769231</td>\n",
       "      <td>0.707317</td>\n",
       "      <td>0.750000</td>\n",
       "      <td>0.693333</td>\n",
       "      <td>0.679487</td>\n",
       "      <td>0.693333</td>\n",
       "    </tr>\n",
       "    <tr>\n",
       "      <th>recall</th>\n",
       "      <td>0.691358</td>\n",
       "      <td>0.456790</td>\n",
       "      <td>0.567901</td>\n",
       "      <td>0.592593</td>\n",
       "      <td>0.617284</td>\n",
       "      <td>0.716049</td>\n",
       "      <td>0.592593</td>\n",
       "      <td>0.641975</td>\n",
       "      <td>0.654321</td>\n",
       "      <td>0.641975</td>\n",
       "    </tr>\n",
       "    <tr>\n",
       "      <th>f1-score</th>\n",
       "      <td>0.727273</td>\n",
       "      <td>0.616667</td>\n",
       "      <td>0.696970</td>\n",
       "      <td>0.666667</td>\n",
       "      <td>0.684932</td>\n",
       "      <td>0.711656</td>\n",
       "      <td>0.662069</td>\n",
       "      <td>0.666667</td>\n",
       "      <td>0.666667</td>\n",
       "      <td>0.666667</td>\n",
       "    </tr>\n",
       "    <tr>\n",
       "      <th>support_negative</th>\n",
       "      <td>133.000000</td>\n",
       "      <td>133.000000</td>\n",
       "      <td>133.000000</td>\n",
       "      <td>133.000000</td>\n",
       "      <td>133.000000</td>\n",
       "      <td>133.000000</td>\n",
       "      <td>133.000000</td>\n",
       "      <td>133.000000</td>\n",
       "      <td>133.000000</td>\n",
       "      <td>133.000000</td>\n",
       "    </tr>\n",
       "    <tr>\n",
       "      <th>support_positive</th>\n",
       "      <td>81.000000</td>\n",
       "      <td>81.000000</td>\n",
       "      <td>81.000000</td>\n",
       "      <td>81.000000</td>\n",
       "      <td>81.000000</td>\n",
       "      <td>81.000000</td>\n",
       "      <td>81.000000</td>\n",
       "      <td>81.000000</td>\n",
       "      <td>81.000000</td>\n",
       "      <td>81.000000</td>\n",
       "    </tr>\n",
       "    <tr>\n",
       "      <th>false_negative_rate</th>\n",
       "      <td>0.177305</td>\n",
       "      <td>0.251429</td>\n",
       "      <td>0.214724</td>\n",
       "      <td>0.218543</td>\n",
       "      <td>0.208054</td>\n",
       "      <td>0.174242</td>\n",
       "      <td>0.220000</td>\n",
       "      <td>0.208633</td>\n",
       "      <td>0.205882</td>\n",
       "      <td>0.208633</td>\n",
       "    </tr>\n",
       "    <tr>\n",
       "      <th>false_positive_rate</th>\n",
       "      <td>0.232877</td>\n",
       "      <td>0.051282</td>\n",
       "      <td>0.098039</td>\n",
       "      <td>0.238095</td>\n",
       "      <td>0.230769</td>\n",
       "      <td>0.292683</td>\n",
       "      <td>0.250000</td>\n",
       "      <td>0.306667</td>\n",
       "      <td>0.320513</td>\n",
       "      <td>0.306667</td>\n",
       "    </tr>\n",
       "    <tr>\n",
       "      <th>true_negative_rate</th>\n",
       "      <td>0.822695</td>\n",
       "      <td>0.748571</td>\n",
       "      <td>0.785276</td>\n",
       "      <td>0.781457</td>\n",
       "      <td>0.791946</td>\n",
       "      <td>0.825758</td>\n",
       "      <td>0.780000</td>\n",
       "      <td>0.791367</td>\n",
       "      <td>0.794118</td>\n",
       "      <td>0.791367</td>\n",
       "    </tr>\n",
       "    <tr>\n",
       "      <th>true_positive_rate</th>\n",
       "      <td>0.767123</td>\n",
       "      <td>0.948718</td>\n",
       "      <td>0.901961</td>\n",
       "      <td>0.761905</td>\n",
       "      <td>0.769231</td>\n",
       "      <td>0.707317</td>\n",
       "      <td>0.750000</td>\n",
       "      <td>0.693333</td>\n",
       "      <td>0.679487</td>\n",
       "      <td>0.693333</td>\n",
       "    </tr>\n",
       "  </tbody>\n",
       "</table>\n",
       "</div>"
      ],
      "text/plain": [
       "                             1           2           3           4   \\\n",
       "accuracy               0.803738    0.785047    0.813084    0.775701   \n",
       "precision              0.767123    0.948718    0.901961    0.761905   \n",
       "recall                 0.691358    0.456790    0.567901    0.592593   \n",
       "f1-score               0.727273    0.616667    0.696970    0.666667   \n",
       "support_negative     133.000000  133.000000  133.000000  133.000000   \n",
       "support_positive      81.000000   81.000000   81.000000   81.000000   \n",
       "false_negative_rate    0.177305    0.251429    0.214724    0.218543   \n",
       "false_positive_rate    0.232877    0.051282    0.098039    0.238095   \n",
       "true_negative_rate     0.822695    0.748571    0.785276    0.781457   \n",
       "true_positive_rate     0.767123    0.948718    0.901961    0.761905   \n",
       "\n",
       "                             5           6           7           8   \\\n",
       "accuracy               0.785047    0.780374    0.771028    0.757009   \n",
       "precision              0.769231    0.707317    0.750000    0.693333   \n",
       "recall                 0.617284    0.716049    0.592593    0.641975   \n",
       "f1-score               0.684932    0.711656    0.662069    0.666667   \n",
       "support_negative     133.000000  133.000000  133.000000  133.000000   \n",
       "support_positive      81.000000   81.000000   81.000000   81.000000   \n",
       "false_negative_rate    0.208054    0.174242    0.220000    0.208633   \n",
       "false_positive_rate    0.230769    0.292683    0.250000    0.306667   \n",
       "true_negative_rate     0.791946    0.825758    0.780000    0.791367   \n",
       "true_positive_rate     0.769231    0.707317    0.750000    0.693333   \n",
       "\n",
       "                             9           10  \n",
       "accuracy               0.752336    0.757009  \n",
       "precision              0.679487    0.693333  \n",
       "recall                 0.654321    0.641975  \n",
       "f1-score               0.666667    0.666667  \n",
       "support_negative     133.000000  133.000000  \n",
       "support_positive      81.000000   81.000000  \n",
       "false_negative_rate    0.205882    0.208633  \n",
       "false_positive_rate    0.320513    0.306667  \n",
       "true_negative_rate     0.794118    0.791367  \n",
       "true_positive_rate     0.679487    0.693333  "
      ]
     },
     "execution_count": 88,
     "metadata": {},
     "output_type": "execute_result"
    }
   ],
   "source": [
    "depths = range(1,11)\n",
    "out = pd.DataFrame(index=my_index)\n",
    "for depth in depths:\n",
    "    temp = test_tree( x_train, y_train, depth, score_x=x_validate, score_y=y_validate)\n",
    "    out = pd.concat([out, temp], axis=1)\n",
    "out"
   ]
  },
  {
   "cell_type": "markdown",
   "metadata": {},
   "source": [
    "8. Work through these same exercises using the Telco dataset."
   ]
  },
  {
   "cell_type": "code",
   "execution_count": 85,
   "metadata": {},
   "outputs": [
    {
     "data": {
      "text/plain": [
       "True"
      ]
     },
     "execution_count": 85,
     "metadata": {},
     "output_type": "execute_result"
    }
   ],
   "source": [
    "isinstance(y_validate, pd.Series)\n",
    "isinstance(x_validate, pd.DataFrame)"
   ]
  }
 ],
 "metadata": {
  "kernelspec": {
   "display_name": "Python 3.10.4 64-bit",
   "language": "python",
   "name": "python3"
  },
  "language_info": {
   "codemirror_mode": {
    "name": "ipython",
    "version": 3
   },
   "file_extension": ".py",
   "mimetype": "text/x-python",
   "name": "python",
   "nbconvert_exporter": "python",
   "pygments_lexer": "ipython3",
   "version": "3.10.4"
  },
  "orig_nbformat": 4,
  "vscode": {
   "interpreter": {
    "hash": "37b4e1d782780d9803a775659fc8b81e9cc61a0899d4564192c1f7cc3c556e45"
   }
  }
 },
 "nbformat": 4,
 "nbformat_minor": 2
}
