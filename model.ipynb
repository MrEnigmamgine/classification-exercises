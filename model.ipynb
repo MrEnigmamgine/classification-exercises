{
 "cells": [
  {
   "cell_type": "code",
   "execution_count": 1,
   "metadata": {},
   "outputs": [],
   "source": [
    "# General DS Imports\n",
    "import matplotlib.pyplot as plt\n",
    "import numpy as np\n",
    "import pandas as pd\n",
    "import seaborn as sns\n",
    "# Decision Tree and Model Evaluation Imports\n",
    "from sklearn.tree import DecisionTreeClassifier, plot_tree, export_text\n",
    "from sklearn.ensemble import RandomForestClassifier\n",
    "from sklearn.model_selection import train_test_split\n",
    "from sklearn.metrics import classification_report, confusion_matrix, plot_confusion_matrix\n",
    "import sklearn.metrics as sklm"
   ]
  },
  {
   "cell_type": "code",
   "execution_count": 2,
   "metadata": {},
   "outputs": [],
   "source": [
    "import prepare\n",
    "import acquire"
   ]
  },
  {
   "cell_type": "markdown",
   "id": "8012a733",
   "metadata": {},
   "source": [
    "\n",
    "# Exercises\n",
    "\n",
    "Using the titanic data, in your classification-exercises repository, create a notebook, `model.ipynb` where you will do the following:\n",
    "\n"
   ]
  },
  {
   "cell_type": "markdown",
   "metadata": {},
   "source": [
    "1. What is your baseline prediction? What is your baseline accuracy? remember: your baseline prediction for a classification problem is predicting the most prevelant class in the training dataset (the mode). When you make those predictions, what is your accuracy? This is your baseline accuracy."
   ]
  },
  {
   "cell_type": "code",
   "execution_count": 3,
   "metadata": {},
   "outputs": [
    {
     "data": {
      "text/plain": [
       "((498, 12), (214, 12), (179, 12))"
      ]
     },
     "execution_count": 3,
     "metadata": {},
     "output_type": "execute_result"
    }
   ],
   "source": [
    "df = acquire.get_titanic_data()\n",
    "df = prepare.prep_titanic(df)\n",
    "# df.head()\n",
    "train, validate, test = prepare.train_validate_test_split(df)\n",
    "train.shape, validate.shape, test.shape"
   ]
  },
  {
   "cell_type": "code",
   "execution_count": 4,
   "metadata": {},
   "outputs": [
    {
     "data": {
      "text/plain": [
       "0    302\n",
       "1    196\n",
       "Name: survived, dtype: int64"
      ]
     },
     "execution_count": 4,
     "metadata": {},
     "output_type": "execute_result"
    }
   ],
   "source": [
    "train.survived.value_counts() # Baseline = everyone dies.\n"
   ]
  },
  {
   "cell_type": "code",
   "execution_count": 5,
   "metadata": {},
   "outputs": [
    {
     "data": {
      "text/plain": [
       "0"
      ]
     },
     "execution_count": 5,
     "metadata": {},
     "output_type": "execute_result"
    }
   ],
   "source": [
    "train.survived.mode()[0]"
   ]
  },
  {
   "cell_type": "code",
   "execution_count": 6,
   "metadata": {},
   "outputs": [
    {
     "data": {
      "text/plain": [
       "689    0\n",
       "84     0\n",
       "738    0\n",
       "441    0\n",
       "643    0\n",
       "Name: model_baseline, dtype: int64"
      ]
     },
     "execution_count": 6,
     "metadata": {},
     "output_type": "execute_result"
    }
   ],
   "source": [
    "train['model_baseline'] = train.survived.mode()[0]\n",
    "train.model_baseline.head()"
   ]
  },
  {
   "cell_type": "code",
   "execution_count": 7,
   "metadata": {},
   "outputs": [
    {
     "name": "stderr",
     "output_type": "stream",
     "text": [
      "c:\\Users\\Crux\\AppData\\Local\\Programs\\Python\\Python310\\lib\\site-packages\\sklearn\\metrics\\_classification.py:1327: UndefinedMetricWarning: Precision and F-score are ill-defined and being set to 0.0 in labels with no predicted samples. Use `zero_division` parameter to control this behavior.\n",
      "  _warn_prf(average, modifier, msg_start, len(result))\n",
      "c:\\Users\\Crux\\AppData\\Local\\Programs\\Python\\Python310\\lib\\site-packages\\sklearn\\metrics\\_classification.py:1327: UndefinedMetricWarning: Precision and F-score are ill-defined and being set to 0.0 in labels with no predicted samples. Use `zero_division` parameter to control this behavior.\n",
      "  _warn_prf(average, modifier, msg_start, len(result))\n",
      "c:\\Users\\Crux\\AppData\\Local\\Programs\\Python\\Python310\\lib\\site-packages\\sklearn\\metrics\\_classification.py:1327: UndefinedMetricWarning: Precision and F-score are ill-defined and being set to 0.0 in labels with no predicted samples. Use `zero_division` parameter to control this behavior.\n",
      "  _warn_prf(average, modifier, msg_start, len(result))\n"
     ]
    },
    {
     "data": {
      "text/html": [
       "<div>\n",
       "<style scoped>\n",
       "    .dataframe tbody tr th:only-of-type {\n",
       "        vertical-align: middle;\n",
       "    }\n",
       "\n",
       "    .dataframe tbody tr th {\n",
       "        vertical-align: top;\n",
       "    }\n",
       "\n",
       "    .dataframe thead th {\n",
       "        text-align: right;\n",
       "    }\n",
       "</style>\n",
       "<table border=\"1\" class=\"dataframe\">\n",
       "  <thead>\n",
       "    <tr style=\"text-align: right;\">\n",
       "      <th></th>\n",
       "      <th>0</th>\n",
       "      <th>1</th>\n",
       "      <th>accuracy</th>\n",
       "      <th>macro avg</th>\n",
       "      <th>weighted avg</th>\n",
       "    </tr>\n",
       "  </thead>\n",
       "  <tbody>\n",
       "    <tr>\n",
       "      <th>precision</th>\n",
       "      <td>0.606426</td>\n",
       "      <td>0.0</td>\n",
       "      <td>0.606426</td>\n",
       "      <td>0.303213</td>\n",
       "      <td>0.367752</td>\n",
       "    </tr>\n",
       "    <tr>\n",
       "      <th>recall</th>\n",
       "      <td>1.000000</td>\n",
       "      <td>0.0</td>\n",
       "      <td>0.606426</td>\n",
       "      <td>0.500000</td>\n",
       "      <td>0.606426</td>\n",
       "    </tr>\n",
       "    <tr>\n",
       "      <th>f1-score</th>\n",
       "      <td>0.755000</td>\n",
       "      <td>0.0</td>\n",
       "      <td>0.606426</td>\n",
       "      <td>0.377500</td>\n",
       "      <td>0.457851</td>\n",
       "    </tr>\n",
       "    <tr>\n",
       "      <th>support</th>\n",
       "      <td>302.000000</td>\n",
       "      <td>196.0</td>\n",
       "      <td>0.606426</td>\n",
       "      <td>498.000000</td>\n",
       "      <td>498.000000</td>\n",
       "    </tr>\n",
       "  </tbody>\n",
       "</table>\n",
       "</div>"
      ],
      "text/plain": [
       "                    0      1  accuracy   macro avg  weighted avg\n",
       "precision    0.606426    0.0  0.606426    0.303213      0.367752\n",
       "recall       1.000000    0.0  0.606426    0.500000      0.606426\n",
       "f1-score     0.755000    0.0  0.606426    0.377500      0.457851\n",
       "support    302.000000  196.0  0.606426  498.000000    498.000000"
      ]
     },
     "execution_count": 7,
     "metadata": {},
     "output_type": "execute_result"
    }
   ],
   "source": [
    "pd.DataFrame(classification_report(train.survived, train.model_baseline, output_dict=True))"
   ]
  },
  {
   "cell_type": "code",
   "execution_count": 8,
   "metadata": {},
   "outputs": [
    {
     "data": {
      "text/plain": [
       "0.606425702811245"
      ]
     },
     "execution_count": 8,
     "metadata": {},
     "output_type": "execute_result"
    }
   ],
   "source": [
    "1- train.survived.mean() #We can just predict accuracy this way"
   ]
  },
  {
   "cell_type": "markdown",
   "metadata": {},
   "source": [
    "2. Fit the decision tree classifier to your training sample and transform (i.e. make predictions on the training sample)\n",
    "\n"
   ]
  },
  {
   "cell_type": "code",
   "execution_count": 9,
   "metadata": {},
   "outputs": [],
   "source": [
    "def split_x_y(df, target, features):\n",
    "    x = df[features]\n",
    "    y = df[target]\n",
    "    return x, y"
   ]
  },
  {
   "cell_type": "code",
   "execution_count": 10,
   "metadata": {},
   "outputs": [
    {
     "data": {
      "text/html": [
       "<div>\n",
       "<style scoped>\n",
       "    .dataframe tbody tr th:only-of-type {\n",
       "        vertical-align: middle;\n",
       "    }\n",
       "\n",
       "    .dataframe tbody tr th {\n",
       "        vertical-align: top;\n",
       "    }\n",
       "\n",
       "    .dataframe thead th {\n",
       "        text-align: right;\n",
       "    }\n",
       "</style>\n",
       "<table border=\"1\" class=\"dataframe\">\n",
       "  <thead>\n",
       "    <tr style=\"text-align: right;\">\n",
       "      <th></th>\n",
       "      <th>pclass</th>\n",
       "      <th>sex_male</th>\n",
       "      <th>fare</th>\n",
       "      <th>alone</th>\n",
       "      <th>embark_town_Queenstown</th>\n",
       "      <th>embark_town_Southampton</th>\n",
       "    </tr>\n",
       "  </thead>\n",
       "  <tbody>\n",
       "    <tr>\n",
       "      <th>689</th>\n",
       "      <td>1</td>\n",
       "      <td>0</td>\n",
       "      <td>211.3375</td>\n",
       "      <td>0</td>\n",
       "      <td>0</td>\n",
       "      <td>1</td>\n",
       "    </tr>\n",
       "    <tr>\n",
       "      <th>84</th>\n",
       "      <td>2</td>\n",
       "      <td>0</td>\n",
       "      <td>10.5000</td>\n",
       "      <td>1</td>\n",
       "      <td>0</td>\n",
       "      <td>1</td>\n",
       "    </tr>\n",
       "    <tr>\n",
       "      <th>738</th>\n",
       "      <td>3</td>\n",
       "      <td>1</td>\n",
       "      <td>7.8958</td>\n",
       "      <td>1</td>\n",
       "      <td>0</td>\n",
       "      <td>1</td>\n",
       "    </tr>\n",
       "    <tr>\n",
       "      <th>441</th>\n",
       "      <td>3</td>\n",
       "      <td>1</td>\n",
       "      <td>9.5000</td>\n",
       "      <td>1</td>\n",
       "      <td>0</td>\n",
       "      <td>1</td>\n",
       "    </tr>\n",
       "    <tr>\n",
       "      <th>643</th>\n",
       "      <td>3</td>\n",
       "      <td>1</td>\n",
       "      <td>56.4958</td>\n",
       "      <td>1</td>\n",
       "      <td>0</td>\n",
       "      <td>1</td>\n",
       "    </tr>\n",
       "  </tbody>\n",
       "</table>\n",
       "</div>"
      ],
      "text/plain": [
       "     pclass  sex_male      fare  alone  embark_town_Queenstown  \\\n",
       "689       1         0  211.3375      0                       0   \n",
       "84        2         0   10.5000      1                       0   \n",
       "738       3         1    7.8958      1                       0   \n",
       "441       3         1    9.5000      1                       0   \n",
       "643       3         1   56.4958      1                       0   \n",
       "\n",
       "     embark_town_Southampton  \n",
       "689                        1  \n",
       "84                         1  \n",
       "738                        1  \n",
       "441                        1  \n",
       "643                        1  "
      ]
     },
     "execution_count": 10,
     "metadata": {},
     "output_type": "execute_result"
    }
   ],
   "source": [
    "y_train = train.survived\n",
    "x_train = train[['pclass','sex_male','fare','alone','embark_town_Queenstown','embark_town_Southampton']]\n",
    "x_train.head()"
   ]
  },
  {
   "cell_type": "code",
   "execution_count": 11,
   "metadata": {},
   "outputs": [],
   "source": [
    "tree = DecisionTreeClassifier(max_depth = 3)"
   ]
  },
  {
   "cell_type": "code",
   "execution_count": 12,
   "metadata": {},
   "outputs": [
    {
     "data": {
      "text/html": [
       "<style>#sk-container-id-1 {color: black;background-color: white;}#sk-container-id-1 pre{padding: 0;}#sk-container-id-1 div.sk-toggleable {background-color: white;}#sk-container-id-1 label.sk-toggleable__label {cursor: pointer;display: block;width: 100%;margin-bottom: 0;padding: 0.3em;box-sizing: border-box;text-align: center;}#sk-container-id-1 label.sk-toggleable__label-arrow:before {content: \"▸\";float: left;margin-right: 0.25em;color: #696969;}#sk-container-id-1 label.sk-toggleable__label-arrow:hover:before {color: black;}#sk-container-id-1 div.sk-estimator:hover label.sk-toggleable__label-arrow:before {color: black;}#sk-container-id-1 div.sk-toggleable__content {max-height: 0;max-width: 0;overflow: hidden;text-align: left;background-color: #f0f8ff;}#sk-container-id-1 div.sk-toggleable__content pre {margin: 0.2em;color: black;border-radius: 0.25em;background-color: #f0f8ff;}#sk-container-id-1 input.sk-toggleable__control:checked~div.sk-toggleable__content {max-height: 200px;max-width: 100%;overflow: auto;}#sk-container-id-1 input.sk-toggleable__control:checked~label.sk-toggleable__label-arrow:before {content: \"▾\";}#sk-container-id-1 div.sk-estimator input.sk-toggleable__control:checked~label.sk-toggleable__label {background-color: #d4ebff;}#sk-container-id-1 div.sk-label input.sk-toggleable__control:checked~label.sk-toggleable__label {background-color: #d4ebff;}#sk-container-id-1 input.sk-hidden--visually {border: 0;clip: rect(1px 1px 1px 1px);clip: rect(1px, 1px, 1px, 1px);height: 1px;margin: -1px;overflow: hidden;padding: 0;position: absolute;width: 1px;}#sk-container-id-1 div.sk-estimator {font-family: monospace;background-color: #f0f8ff;border: 1px dotted black;border-radius: 0.25em;box-sizing: border-box;margin-bottom: 0.5em;}#sk-container-id-1 div.sk-estimator:hover {background-color: #d4ebff;}#sk-container-id-1 div.sk-parallel-item::after {content: \"\";width: 100%;border-bottom: 1px solid gray;flex-grow: 1;}#sk-container-id-1 div.sk-label:hover label.sk-toggleable__label {background-color: #d4ebff;}#sk-container-id-1 div.sk-serial::before {content: \"\";position: absolute;border-left: 1px solid gray;box-sizing: border-box;top: 0;bottom: 0;left: 50%;z-index: 0;}#sk-container-id-1 div.sk-serial {display: flex;flex-direction: column;align-items: center;background-color: white;padding-right: 0.2em;padding-left: 0.2em;position: relative;}#sk-container-id-1 div.sk-item {position: relative;z-index: 1;}#sk-container-id-1 div.sk-parallel {display: flex;align-items: stretch;justify-content: center;background-color: white;position: relative;}#sk-container-id-1 div.sk-item::before, #sk-container-id-1 div.sk-parallel-item::before {content: \"\";position: absolute;border-left: 1px solid gray;box-sizing: border-box;top: 0;bottom: 0;left: 50%;z-index: -1;}#sk-container-id-1 div.sk-parallel-item {display: flex;flex-direction: column;z-index: 1;position: relative;background-color: white;}#sk-container-id-1 div.sk-parallel-item:first-child::after {align-self: flex-end;width: 50%;}#sk-container-id-1 div.sk-parallel-item:last-child::after {align-self: flex-start;width: 50%;}#sk-container-id-1 div.sk-parallel-item:only-child::after {width: 0;}#sk-container-id-1 div.sk-dashed-wrapped {border: 1px dashed gray;margin: 0 0.4em 0.5em 0.4em;box-sizing: border-box;padding-bottom: 0.4em;background-color: white;}#sk-container-id-1 div.sk-label label {font-family: monospace;font-weight: bold;display: inline-block;line-height: 1.2em;}#sk-container-id-1 div.sk-label-container {text-align: center;}#sk-container-id-1 div.sk-container {/* jupyter's `normalize.less` sets `[hidden] { display: none; }` but bootstrap.min.css set `[hidden] { display: none !important; }` so we also need the `!important` here to be able to override the default hidden behavior on the sphinx rendered scikit-learn.org. See: https://github.com/scikit-learn/scikit-learn/issues/21755 */display: inline-block !important;position: relative;}#sk-container-id-1 div.sk-text-repr-fallback {display: none;}</style><div id=\"sk-container-id-1\" class=\"sk-top-container\"><div class=\"sk-text-repr-fallback\"><pre>DecisionTreeClassifier(max_depth=3)</pre><b>In a Jupyter environment, please rerun this cell to show the HTML representation or trust the notebook. <br />On GitHub, the HTML representation is unable to render, please try loading this page with nbviewer.org.</b></div><div class=\"sk-container\" hidden><div class=\"sk-item\"><div class=\"sk-estimator sk-toggleable\"><input class=\"sk-toggleable__control sk-hidden--visually\" id=\"sk-estimator-id-1\" type=\"checkbox\" checked><label for=\"sk-estimator-id-1\" class=\"sk-toggleable__label sk-toggleable__label-arrow\">DecisionTreeClassifier</label><div class=\"sk-toggleable__content\"><pre>DecisionTreeClassifier(max_depth=3)</pre></div></div></div></div></div>"
      ],
      "text/plain": [
       "DecisionTreeClassifier(max_depth=3)"
      ]
     },
     "execution_count": 12,
     "metadata": {},
     "output_type": "execute_result"
    }
   ],
   "source": [
    "tree.fit(x_train, y_train)"
   ]
  },
  {
   "cell_type": "code",
   "execution_count": 13,
   "metadata": {},
   "outputs": [
    {
     "data": {
      "text/plain": [
       "array([0, 1], dtype=int64)"
      ]
     },
     "execution_count": 13,
     "metadata": {},
     "output_type": "execute_result"
    }
   ],
   "source": [
    "tree.classes_"
   ]
  },
  {
   "cell_type": "code",
   "execution_count": 14,
   "metadata": {},
   "outputs": [
    {
     "name": "stdout",
     "output_type": "stream",
     "text": [
      "|--- sex_male <= 0.50\n",
      "|   |--- pclass <= 2.50\n",
      "|   |   |--- fare <= 26.12\n",
      "|   |   |   |--- class: 1\n",
      "|   |   |--- fare >  26.12\n",
      "|   |   |   |--- class: 1\n",
      "|   |--- pclass >  2.50\n",
      "|   |   |--- embark_town_Southampton <= 0.50\n",
      "|   |   |   |--- class: 1\n",
      "|   |   |--- embark_town_Southampton >  0.50\n",
      "|   |   |   |--- class: 0\n",
      "|--- sex_male >  0.50\n",
      "|   |--- pclass <= 1.50\n",
      "|   |   |--- fare <= 26.11\n",
      "|   |   |   |--- class: 0\n",
      "|   |   |--- fare >  26.11\n",
      "|   |   |   |--- class: 0\n",
      "|   |--- pclass >  1.50\n",
      "|   |   |--- fare <= 7.91\n",
      "|   |   |   |--- class: 0\n",
      "|   |   |--- fare >  7.91\n",
      "|   |   |   |--- class: 0\n",
      "\n"
     ]
    }
   ],
   "source": [
    "print(\n",
    "    export_text(decision_tree=tree, feature_names=x_train.columns.tolist())\n",
    ")"
   ]
  },
  {
   "cell_type": "code",
   "execution_count": 15,
   "metadata": {},
   "outputs": [
    {
     "data": {
      "image/png": "[encoded data removed]",
      "text/plain": [
       "<Figure size 2160x1080 with 1 Axes>"
      ]
     },
     "metadata": {
      "needs_background": "light"
     },
     "output_type": "display_data"
    }
   ],
   "source": [
    "plt.figure(figsize=(30, 15))\n",
    "plot_tree(tree, feature_names=x_train.columns, class_names=['died','survived'])\n",
    "plt.show()"
   ]
  },
  {
   "cell_type": "markdown",
   "metadata": {},
   "source": [
    "3. Evaluate your in-sample results using the model score, confusion matrix, and classification report.\n",
    "\n"
   ]
  },
  {
   "cell_type": "code",
   "execution_count": 16,
   "metadata": {},
   "outputs": [
    {
     "name": "stdout",
     "output_type": "stream",
     "text": [
      "              precision    recall  f1-score   support\n",
      "\n",
      "           0       0.77      0.95      0.85       302\n",
      "           1       0.88      0.57      0.69       196\n",
      "\n",
      "    accuracy                           0.80       498\n",
      "   macro avg       0.82      0.76      0.77       498\n",
      "weighted avg       0.81      0.80      0.79       498\n",
      "\n"
     ]
    }
   ],
   "source": [
    "predictions = tree.predict(x_train)\n",
    "actual = y_train\n",
    "print(classification_report(actual, predictions))"
   ]
  },
  {
   "cell_type": "code",
   "execution_count": 17,
   "metadata": {},
   "outputs": [
    {
     "data": {
      "text/html": [
       "<div>\n",
       "<style scoped>\n",
       "    .dataframe tbody tr th:only-of-type {\n",
       "        vertical-align: middle;\n",
       "    }\n",
       "\n",
       "    .dataframe tbody tr th {\n",
       "        vertical-align: top;\n",
       "    }\n",
       "\n",
       "    .dataframe thead th {\n",
       "        text-align: right;\n",
       "    }\n",
       "</style>\n",
       "<table border=\"1\" class=\"dataframe\">\n",
       "  <thead>\n",
       "    <tr style=\"text-align: right;\">\n",
       "      <th>col_0</th>\n",
       "      <th>0</th>\n",
       "      <th>1</th>\n",
       "    </tr>\n",
       "    <tr>\n",
       "      <th>survived</th>\n",
       "      <th></th>\n",
       "      <th></th>\n",
       "    </tr>\n",
       "  </thead>\n",
       "  <tbody>\n",
       "    <tr>\n",
       "      <th>0</th>\n",
       "      <td>286</td>\n",
       "      <td>16</td>\n",
       "    </tr>\n",
       "    <tr>\n",
       "      <th>1</th>\n",
       "      <td>84</td>\n",
       "      <td>112</td>\n",
       "    </tr>\n",
       "  </tbody>\n",
       "</table>\n",
       "</div>"
      ],
      "text/plain": [
       "col_0       0    1\n",
       "survived          \n",
       "0         286   16\n",
       "1          84  112"
      ]
     },
     "execution_count": 17,
     "metadata": {},
     "output_type": "execute_result"
    }
   ],
   "source": [
    "pd.crosstab(actual, predictions)"
   ]
  },
  {
   "cell_type": "code",
   "execution_count": 18,
   "metadata": {},
   "outputs": [],
   "source": [
    "def get_tn_fp_fn_tp_from_confusion_matrix(matrix):\n",
    "    tn, fp, fn, tp = matrix.ravel()\n",
    "    return tn, fp, fn, tp"
   ]
  },
  {
   "cell_type": "code",
   "execution_count": 19,
   "metadata": {},
   "outputs": [
    {
     "data": {
      "text/plain": [
       "(286, 16, 84, 112)"
      ]
     },
     "execution_count": 19,
     "metadata": {},
     "output_type": "execute_result"
    }
   ],
   "source": [
    "tn, fp, fn, tp = confusion_matrix(y_true=actual,y_pred=predictions).ravel()\n",
    "tn, fp, fn, tp\n"
   ]
  },
  {
   "cell_type": "markdown",
   "metadata": {},
   "source": [
    "4. Compute: Accuracy, true positive rate, false positive rate, true negative rate, false negative rate, precision, recall, f1-score, and support.\n",
    "\n"
   ]
  },
  {
   "cell_type": "code",
   "execution_count": 20,
   "metadata": {},
   "outputs": [
    {
     "data": {
      "text/plain": [
       "{'accuracy': 0.7991967871485943,\n",
       " 'true_positive_rate': 0.875,\n",
       " 'false_positive_rate': 0.125,\n",
       " 'true_negative_rate': 0.772972972972973,\n",
       " 'false_negative_rate': 0.22702702702702704,\n",
       " 'precision': 0.875,\n",
       " 'recall': 0.5714285714285714,\n",
       " 'f1-score': 0.691358024691358,\n",
       " 'support_negative': 302,\n",
       " 'support_positive': 196}"
      ]
     },
     "execution_count": 20,
     "metadata": {},
     "output_type": "execute_result"
    }
   ],
   "source": [
    "score = {\n",
    "        'accuracy' : sklm.accuracy_score(actual, predictions) ,\n",
    "        'true_positive_rate' : tp/(tp+fp) ,\n",
    "        'false_positive_rate' : fp/(tp+fp) ,\n",
    "        'true_negative_rate' : tn/(tn+fn) ,\n",
    "        'false_negative_rate' : fn/(tn+fn) ,\n",
    "        'precision' : sklm.precision_score(actual, predictions),\n",
    "        'recall'    : sklm.recall_score(actual, predictions),\n",
    "        'f1-score'  : sklm.f1_score(actual, predictions),\n",
    "        'support_negative' : actual.value_counts()[0],\n",
    "        'support_positive' : actual.value_counts()[1]\n",
    "        }\n",
    "score"
   ]
  },
  {
   "cell_type": "code",
   "execution_count": 21,
   "metadata": {},
   "outputs": [
    {
     "data": {
      "text/plain": [
       "{'0': {'precision': 0.772972972972973,\n",
       "  'recall': 0.9470198675496688,\n",
       "  'f1-score': 0.8511904761904762,\n",
       "  'support': 302},\n",
       " '1': {'precision': 0.875,\n",
       "  'recall': 0.5714285714285714,\n",
       "  'f1-score': 0.691358024691358,\n",
       "  'support': 196},\n",
       " 'accuracy': 0.7991967871485943,\n",
       " 'macro avg': {'precision': 0.8239864864864865,\n",
       "  'recall': 0.7592242194891201,\n",
       "  'f1-score': 0.7712742504409171,\n",
       "  'support': 498},\n",
       " 'weighted avg': {'precision': 0.8131281884293933,\n",
       "  'recall': 0.7991967871485943,\n",
       "  'f1-score': 0.788284531423755,\n",
       "  'support': 498}}"
      ]
     },
     "execution_count": 21,
     "metadata": {},
     "output_type": "execute_result"
    }
   ],
   "source": [
    "classification_report(actual, predictions, output_dict=True)"
   ]
  },
  {
   "cell_type": "markdown",
   "metadata": {},
   "source": [
    "5. Run through steps 2-4 using a different max_depth value.\n",
    "\n"
   ]
  },
  {
   "cell_type": "code",
   "execution_count": 22,
   "metadata": {},
   "outputs": [],
   "source": [
    "def test_tree(x, y, depth, score_x=None, score_y=None):\n",
    "    tree = DecisionTreeClassifier(max_depth = depth)\n",
    "    tree.fit(x, y)\n",
    "    predictions = tree.predict(score_x) if isinstance(score_x, pd.DataFrame) else tree.predict(x)\n",
    "    actual = score_y if isinstance(score_y, pd.Series) else y\n",
    "    tn, fp, fn, tp = confusion_matrix(y_true=actual,y_pred=predictions).ravel()\n",
    "    score = {\n",
    "        depth : {\n",
    "            'accuracy' : sklm.accuracy_score(actual, predictions) ,\n",
    "            'true_positive_rate' : tp/(tp+fp) ,\n",
    "            'false_positive_rate' : fp/(tp+fp) ,\n",
    "            'true_negative_rate' : tn/(tn+fn) ,\n",
    "            'false_negative_rate' : fn/(tn+fn) ,\n",
    "            'precision' : sklm.precision_score(actual, predictions),\n",
    "            'recall'    : sklm.recall_score(actual, predictions),\n",
    "            'f1-score'  : sklm.f1_score(actual, predictions),\n",
    "            'support_negative' : actual.value_counts()[0],\n",
    "            'support_positive' : actual.value_counts()[1]\n",
    "            }\n",
    "        }\n",
    "    return pd.DataFrame(score)\n",
    "    "
   ]
  },
  {
   "cell_type": "code",
   "execution_count": 42,
   "metadata": {},
   "outputs": [],
   "source": [
    "def binary_classifier_stats(actual, predictions):\n",
    "    tn, fp, fn, tp = confusion_matrix(actual,predictions).ravel()\n",
    "    stats = {\n",
    "            'accuracy' : sklm.accuracy_score(actual, predictions) ,\n",
    "            'true_positive_rate' : tp/(tp+fp) ,\n",
    "            'false_positive_rate' : fp/(tp+fp) ,\n",
    "            'true_negative_rate' : tn/(tn+fn) ,\n",
    "            'false_negative_rate' : fn/(tn+fn) ,\n",
    "            'precision' : sklm.precision_score(actual, predictions),\n",
    "            'recall'    : sklm.recall_score(actual, predictions),\n",
    "            'f1-score'  : sklm.f1_score(actual, predictions),\n",
    "            'support_negative' : actual.value_counts()[0],\n",
    "            'support_positive' : actual.value_counts()[1]\n",
    "            }\n",
    "    return stats"
   ]
  },
  {
   "cell_type": "code",
   "execution_count": 23,
   "metadata": {},
   "outputs": [
    {
     "data": {
      "text/plain": [
       "NoneType"
      ]
     },
     "execution_count": 23,
     "metadata": {},
     "output_type": "execute_result"
    }
   ],
   "source": [
    "type(None)"
   ]
  },
  {
   "cell_type": "code",
   "execution_count": 24,
   "metadata": {},
   "outputs": [
    {
     "data": {
      "text/plain": [
       "['accuracy',\n",
       " 'f1-score',\n",
       " 'false_negative_rate',\n",
       " 'false_positive_rate',\n",
       " 'precision',\n",
       " 'recall',\n",
       " 'support_negative',\n",
       " 'support_positive',\n",
       " 'true_negative_rate',\n",
       " 'true_positive_rate']"
      ]
     },
     "execution_count": 24,
     "metadata": {},
     "output_type": "execute_result"
    }
   ],
   "source": [
    "test_tree(x_train, y_train, 2).index.tolist()"
   ]
  },
  {
   "cell_type": "code",
   "execution_count": 25,
   "metadata": {},
   "outputs": [],
   "source": [
    "my_index =  ['accuracy',\n",
    "            'precision',\n",
    "            'recall',\n",
    "            'f1-score',\n",
    "            'support_negative',\n",
    "            'support_positive',\n",
    "            'false_negative_rate',\n",
    "            'false_positive_rate',\n",
    "            'true_negative_rate',\n",
    "            'true_positive_rate']"
   ]
  },
  {
   "cell_type": "markdown",
   "metadata": {},
   "source": [
    "6. Which model performs better on your in-sample data?\n",
    "\n"
   ]
  },
  {
   "cell_type": "code",
   "execution_count": 26,
   "metadata": {},
   "outputs": [
    {
     "data": {
      "text/html": [
       "<div>\n",
       "<style scoped>\n",
       "    .dataframe tbody tr th:only-of-type {\n",
       "        vertical-align: middle;\n",
       "    }\n",
       "\n",
       "    .dataframe tbody tr th {\n",
       "        vertical-align: top;\n",
       "    }\n",
       "\n",
       "    .dataframe thead th {\n",
       "        text-align: right;\n",
       "    }\n",
       "</style>\n",
       "<table border=\"1\" class=\"dataframe\">\n",
       "  <thead>\n",
       "    <tr style=\"text-align: right;\">\n",
       "      <th></th>\n",
       "      <th>1</th>\n",
       "      <th>2</th>\n",
       "      <th>3</th>\n",
       "      <th>4</th>\n",
       "      <th>5</th>\n",
       "      <th>6</th>\n",
       "      <th>7</th>\n",
       "      <th>8</th>\n",
       "      <th>9</th>\n",
       "      <th>10</th>\n",
       "    </tr>\n",
       "  </thead>\n",
       "  <tbody>\n",
       "    <tr>\n",
       "      <th>accuracy</th>\n",
       "      <td>0.775100</td>\n",
       "      <td>0.777108</td>\n",
       "      <td>0.799197</td>\n",
       "      <td>0.819277</td>\n",
       "      <td>0.835341</td>\n",
       "      <td>0.855422</td>\n",
       "      <td>0.879518</td>\n",
       "      <td>0.895582</td>\n",
       "      <td>0.899598</td>\n",
       "      <td>0.911647</td>\n",
       "    </tr>\n",
       "    <tr>\n",
       "      <th>precision</th>\n",
       "      <td>0.735955</td>\n",
       "      <td>0.956989</td>\n",
       "      <td>0.875000</td>\n",
       "      <td>0.839744</td>\n",
       "      <td>0.847561</td>\n",
       "      <td>0.792453</td>\n",
       "      <td>0.904762</td>\n",
       "      <td>0.900000</td>\n",
       "      <td>0.892473</td>\n",
       "      <td>0.900000</td>\n",
       "    </tr>\n",
       "    <tr>\n",
       "      <th>recall</th>\n",
       "      <td>0.668367</td>\n",
       "      <td>0.454082</td>\n",
       "      <td>0.571429</td>\n",
       "      <td>0.668367</td>\n",
       "      <td>0.709184</td>\n",
       "      <td>0.857143</td>\n",
       "      <td>0.775510</td>\n",
       "      <td>0.826531</td>\n",
       "      <td>0.846939</td>\n",
       "      <td>0.872449</td>\n",
       "    </tr>\n",
       "    <tr>\n",
       "      <th>f1-score</th>\n",
       "      <td>0.700535</td>\n",
       "      <td>0.615917</td>\n",
       "      <td>0.691358</td>\n",
       "      <td>0.744318</td>\n",
       "      <td>0.772222</td>\n",
       "      <td>0.823529</td>\n",
       "      <td>0.835165</td>\n",
       "      <td>0.861702</td>\n",
       "      <td>0.869110</td>\n",
       "      <td>0.886010</td>\n",
       "    </tr>\n",
       "    <tr>\n",
       "      <th>support_negative</th>\n",
       "      <td>302.000000</td>\n",
       "      <td>302.000000</td>\n",
       "      <td>302.000000</td>\n",
       "      <td>302.000000</td>\n",
       "      <td>302.000000</td>\n",
       "      <td>302.000000</td>\n",
       "      <td>302.000000</td>\n",
       "      <td>302.000000</td>\n",
       "      <td>302.000000</td>\n",
       "      <td>302.000000</td>\n",
       "    </tr>\n",
       "    <tr>\n",
       "      <th>support_positive</th>\n",
       "      <td>196.000000</td>\n",
       "      <td>196.000000</td>\n",
       "      <td>196.000000</td>\n",
       "      <td>196.000000</td>\n",
       "      <td>196.000000</td>\n",
       "      <td>196.000000</td>\n",
       "      <td>196.000000</td>\n",
       "      <td>196.000000</td>\n",
       "      <td>196.000000</td>\n",
       "      <td>196.000000</td>\n",
       "    </tr>\n",
       "    <tr>\n",
       "      <th>false_negative_rate</th>\n",
       "      <td>0.203125</td>\n",
       "      <td>0.264198</td>\n",
       "      <td>0.227027</td>\n",
       "      <td>0.190058</td>\n",
       "      <td>0.170659</td>\n",
       "      <td>0.097902</td>\n",
       "      <td>0.133333</td>\n",
       "      <td>0.106918</td>\n",
       "      <td>0.096154</td>\n",
       "      <td>0.081169</td>\n",
       "    </tr>\n",
       "    <tr>\n",
       "      <th>false_positive_rate</th>\n",
       "      <td>0.264045</td>\n",
       "      <td>0.043011</td>\n",
       "      <td>0.125000</td>\n",
       "      <td>0.160256</td>\n",
       "      <td>0.152439</td>\n",
       "      <td>0.207547</td>\n",
       "      <td>0.095238</td>\n",
       "      <td>0.100000</td>\n",
       "      <td>0.107527</td>\n",
       "      <td>0.100000</td>\n",
       "    </tr>\n",
       "    <tr>\n",
       "      <th>true_negative_rate</th>\n",
       "      <td>0.796875</td>\n",
       "      <td>0.735802</td>\n",
       "      <td>0.772973</td>\n",
       "      <td>0.809942</td>\n",
       "      <td>0.829341</td>\n",
       "      <td>0.902098</td>\n",
       "      <td>0.866667</td>\n",
       "      <td>0.893082</td>\n",
       "      <td>0.903846</td>\n",
       "      <td>0.918831</td>\n",
       "    </tr>\n",
       "    <tr>\n",
       "      <th>true_positive_rate</th>\n",
       "      <td>0.735955</td>\n",
       "      <td>0.956989</td>\n",
       "      <td>0.875000</td>\n",
       "      <td>0.839744</td>\n",
       "      <td>0.847561</td>\n",
       "      <td>0.792453</td>\n",
       "      <td>0.904762</td>\n",
       "      <td>0.900000</td>\n",
       "      <td>0.892473</td>\n",
       "      <td>0.900000</td>\n",
       "    </tr>\n",
       "  </tbody>\n",
       "</table>\n",
       "</div>"
      ],
      "text/plain": [
       "                             1           2           3           4   \\\n",
       "accuracy               0.775100    0.777108    0.799197    0.819277   \n",
       "precision              0.735955    0.956989    0.875000    0.839744   \n",
       "recall                 0.668367    0.454082    0.571429    0.668367   \n",
       "f1-score               0.700535    0.615917    0.691358    0.744318   \n",
       "support_negative     302.000000  302.000000  302.000000  302.000000   \n",
       "support_positive     196.000000  196.000000  196.000000  196.000000   \n",
       "false_negative_rate    0.203125    0.264198    0.227027    0.190058   \n",
       "false_positive_rate    0.264045    0.043011    0.125000    0.160256   \n",
       "true_negative_rate     0.796875    0.735802    0.772973    0.809942   \n",
       "true_positive_rate     0.735955    0.956989    0.875000    0.839744   \n",
       "\n",
       "                             5           6           7           8   \\\n",
       "accuracy               0.835341    0.855422    0.879518    0.895582   \n",
       "precision              0.847561    0.792453    0.904762    0.900000   \n",
       "recall                 0.709184    0.857143    0.775510    0.826531   \n",
       "f1-score               0.772222    0.823529    0.835165    0.861702   \n",
       "support_negative     302.000000  302.000000  302.000000  302.000000   \n",
       "support_positive     196.000000  196.000000  196.000000  196.000000   \n",
       "false_negative_rate    0.170659    0.097902    0.133333    0.106918   \n",
       "false_positive_rate    0.152439    0.207547    0.095238    0.100000   \n",
       "true_negative_rate     0.829341    0.902098    0.866667    0.893082   \n",
       "true_positive_rate     0.847561    0.792453    0.904762    0.900000   \n",
       "\n",
       "                             9           10  \n",
       "accuracy               0.899598    0.911647  \n",
       "precision              0.892473    0.900000  \n",
       "recall                 0.846939    0.872449  \n",
       "f1-score               0.869110    0.886010  \n",
       "support_negative     302.000000  302.000000  \n",
       "support_positive     196.000000  196.000000  \n",
       "false_negative_rate    0.096154    0.081169  \n",
       "false_positive_rate    0.107527    0.100000  \n",
       "true_negative_rate     0.903846    0.918831  \n",
       "true_positive_rate     0.892473    0.900000  "
      ]
     },
     "execution_count": 26,
     "metadata": {},
     "output_type": "execute_result"
    }
   ],
   "source": [
    "depths = range(1,11)\n",
    "out = pd.DataFrame(index=my_index)\n",
    "for depth in depths:\n",
    "    temp = test_tree( x_train, y_train, depth)\n",
    "    out = pd.concat([out, temp], axis=1)\n",
    "out"
   ]
  },
  {
   "cell_type": "markdown",
   "metadata": {},
   "source": [
    "> the higher the depth the better it performs on in-sample data"
   ]
  },
  {
   "cell_type": "markdown",
   "metadata": {},
   "source": [
    "7. Which model performs best on your out-of-sample data, the validate set?\n",
    "\n"
   ]
  },
  {
   "cell_type": "code",
   "execution_count": 27,
   "metadata": {},
   "outputs": [],
   "source": [
    "features = ['pclass','sex_male','fare','alone','embark_town_Queenstown','embark_town_Southampton']\n",
    "x_validate, y_validate = split_x_y(validate, 'survived', features)\n"
   ]
  },
  {
   "cell_type": "code",
   "execution_count": 28,
   "metadata": {},
   "outputs": [
    {
     "data": {
      "text/html": [
       "<div>\n",
       "<style scoped>\n",
       "    .dataframe tbody tr th:only-of-type {\n",
       "        vertical-align: middle;\n",
       "    }\n",
       "\n",
       "    .dataframe tbody tr th {\n",
       "        vertical-align: top;\n",
       "    }\n",
       "\n",
       "    .dataframe thead th {\n",
       "        text-align: right;\n",
       "    }\n",
       "</style>\n",
       "<table border=\"1\" class=\"dataframe\">\n",
       "  <thead>\n",
       "    <tr style=\"text-align: right;\">\n",
       "      <th></th>\n",
       "      <th>1</th>\n",
       "      <th>2</th>\n",
       "      <th>3</th>\n",
       "      <th>4</th>\n",
       "      <th>5</th>\n",
       "      <th>6</th>\n",
       "      <th>7</th>\n",
       "      <th>8</th>\n",
       "      <th>9</th>\n",
       "      <th>10</th>\n",
       "    </tr>\n",
       "  </thead>\n",
       "  <tbody>\n",
       "    <tr>\n",
       "      <th>accuracy</th>\n",
       "      <td>0.803738</td>\n",
       "      <td>0.785047</td>\n",
       "      <td>0.813084</td>\n",
       "      <td>0.775701</td>\n",
       "      <td>0.785047</td>\n",
       "      <td>0.780374</td>\n",
       "      <td>0.771028</td>\n",
       "      <td>0.757009</td>\n",
       "      <td>0.761682</td>\n",
       "      <td>0.766355</td>\n",
       "    </tr>\n",
       "    <tr>\n",
       "      <th>precision</th>\n",
       "      <td>0.767123</td>\n",
       "      <td>0.948718</td>\n",
       "      <td>0.901961</td>\n",
       "      <td>0.761905</td>\n",
       "      <td>0.769231</td>\n",
       "      <td>0.707317</td>\n",
       "      <td>0.750000</td>\n",
       "      <td>0.693333</td>\n",
       "      <td>0.692308</td>\n",
       "      <td>0.706667</td>\n",
       "    </tr>\n",
       "    <tr>\n",
       "      <th>recall</th>\n",
       "      <td>0.691358</td>\n",
       "      <td>0.456790</td>\n",
       "      <td>0.567901</td>\n",
       "      <td>0.592593</td>\n",
       "      <td>0.617284</td>\n",
       "      <td>0.716049</td>\n",
       "      <td>0.592593</td>\n",
       "      <td>0.641975</td>\n",
       "      <td>0.666667</td>\n",
       "      <td>0.654321</td>\n",
       "    </tr>\n",
       "    <tr>\n",
       "      <th>f1-score</th>\n",
       "      <td>0.727273</td>\n",
       "      <td>0.616667</td>\n",
       "      <td>0.696970</td>\n",
       "      <td>0.666667</td>\n",
       "      <td>0.684932</td>\n",
       "      <td>0.711656</td>\n",
       "      <td>0.662069</td>\n",
       "      <td>0.666667</td>\n",
       "      <td>0.679245</td>\n",
       "      <td>0.679487</td>\n",
       "    </tr>\n",
       "    <tr>\n",
       "      <th>support_negative</th>\n",
       "      <td>133.000000</td>\n",
       "      <td>133.000000</td>\n",
       "      <td>133.000000</td>\n",
       "      <td>133.000000</td>\n",
       "      <td>133.000000</td>\n",
       "      <td>133.000000</td>\n",
       "      <td>133.000000</td>\n",
       "      <td>133.000000</td>\n",
       "      <td>133.000000</td>\n",
       "      <td>133.000000</td>\n",
       "    </tr>\n",
       "    <tr>\n",
       "      <th>support_positive</th>\n",
       "      <td>81.000000</td>\n",
       "      <td>81.000000</td>\n",
       "      <td>81.000000</td>\n",
       "      <td>81.000000</td>\n",
       "      <td>81.000000</td>\n",
       "      <td>81.000000</td>\n",
       "      <td>81.000000</td>\n",
       "      <td>81.000000</td>\n",
       "      <td>81.000000</td>\n",
       "      <td>81.000000</td>\n",
       "    </tr>\n",
       "    <tr>\n",
       "      <th>false_negative_rate</th>\n",
       "      <td>0.177305</td>\n",
       "      <td>0.251429</td>\n",
       "      <td>0.214724</td>\n",
       "      <td>0.218543</td>\n",
       "      <td>0.208054</td>\n",
       "      <td>0.174242</td>\n",
       "      <td>0.220000</td>\n",
       "      <td>0.208633</td>\n",
       "      <td>0.198529</td>\n",
       "      <td>0.201439</td>\n",
       "    </tr>\n",
       "    <tr>\n",
       "      <th>false_positive_rate</th>\n",
       "      <td>0.232877</td>\n",
       "      <td>0.051282</td>\n",
       "      <td>0.098039</td>\n",
       "      <td>0.238095</td>\n",
       "      <td>0.230769</td>\n",
       "      <td>0.292683</td>\n",
       "      <td>0.250000</td>\n",
       "      <td>0.306667</td>\n",
       "      <td>0.307692</td>\n",
       "      <td>0.293333</td>\n",
       "    </tr>\n",
       "    <tr>\n",
       "      <th>true_negative_rate</th>\n",
       "      <td>0.822695</td>\n",
       "      <td>0.748571</td>\n",
       "      <td>0.785276</td>\n",
       "      <td>0.781457</td>\n",
       "      <td>0.791946</td>\n",
       "      <td>0.825758</td>\n",
       "      <td>0.780000</td>\n",
       "      <td>0.791367</td>\n",
       "      <td>0.801471</td>\n",
       "      <td>0.798561</td>\n",
       "    </tr>\n",
       "    <tr>\n",
       "      <th>true_positive_rate</th>\n",
       "      <td>0.767123</td>\n",
       "      <td>0.948718</td>\n",
       "      <td>0.901961</td>\n",
       "      <td>0.761905</td>\n",
       "      <td>0.769231</td>\n",
       "      <td>0.707317</td>\n",
       "      <td>0.750000</td>\n",
       "      <td>0.693333</td>\n",
       "      <td>0.692308</td>\n",
       "      <td>0.706667</td>\n",
       "    </tr>\n",
       "  </tbody>\n",
       "</table>\n",
       "</div>"
      ],
      "text/plain": [
       "                             1           2           3           4   \\\n",
       "accuracy               0.803738    0.785047    0.813084    0.775701   \n",
       "precision              0.767123    0.948718    0.901961    0.761905   \n",
       "recall                 0.691358    0.456790    0.567901    0.592593   \n",
       "f1-score               0.727273    0.616667    0.696970    0.666667   \n",
       "support_negative     133.000000  133.000000  133.000000  133.000000   \n",
       "support_positive      81.000000   81.000000   81.000000   81.000000   \n",
       "false_negative_rate    0.177305    0.251429    0.214724    0.218543   \n",
       "false_positive_rate    0.232877    0.051282    0.098039    0.238095   \n",
       "true_negative_rate     0.822695    0.748571    0.785276    0.781457   \n",
       "true_positive_rate     0.767123    0.948718    0.901961    0.761905   \n",
       "\n",
       "                             5           6           7           8   \\\n",
       "accuracy               0.785047    0.780374    0.771028    0.757009   \n",
       "precision              0.769231    0.707317    0.750000    0.693333   \n",
       "recall                 0.617284    0.716049    0.592593    0.641975   \n",
       "f1-score               0.684932    0.711656    0.662069    0.666667   \n",
       "support_negative     133.000000  133.000000  133.000000  133.000000   \n",
       "support_positive      81.000000   81.000000   81.000000   81.000000   \n",
       "false_negative_rate    0.208054    0.174242    0.220000    0.208633   \n",
       "false_positive_rate    0.230769    0.292683    0.250000    0.306667   \n",
       "true_negative_rate     0.791946    0.825758    0.780000    0.791367   \n",
       "true_positive_rate     0.769231    0.707317    0.750000    0.693333   \n",
       "\n",
       "                             9           10  \n",
       "accuracy               0.761682    0.766355  \n",
       "precision              0.692308    0.706667  \n",
       "recall                 0.666667    0.654321  \n",
       "f1-score               0.679245    0.679487  \n",
       "support_negative     133.000000  133.000000  \n",
       "support_positive      81.000000   81.000000  \n",
       "false_negative_rate    0.198529    0.201439  \n",
       "false_positive_rate    0.307692    0.293333  \n",
       "true_negative_rate     0.801471    0.798561  \n",
       "true_positive_rate     0.692308    0.706667  "
      ]
     },
     "execution_count": 28,
     "metadata": {},
     "output_type": "execute_result"
    }
   ],
   "source": [
    "depths = range(1,11)\n",
    "out = pd.DataFrame(index=my_index)\n",
    "for depth in depths:\n",
    "    temp = test_tree( x_train, y_train, depth, score_x=x_validate, score_y=y_validate)\n",
    "    out = pd.concat([out, temp], axis=1)\n",
    "out"
   ]
  },
  {
   "cell_type": "markdown",
   "metadata": {},
   "source": [
    "8. Work through these same exercises using the Telco dataset."
   ]
  },
  {
   "cell_type": "code",
   "execution_count": 29,
   "metadata": {},
   "outputs": [
    {
     "data": {
      "text/plain": [
       "True"
      ]
     },
     "execution_count": 29,
     "metadata": {},
     "output_type": "execute_result"
    }
   ],
   "source": [
    "isinstance(y_validate, pd.Series)\n",
    "isinstance(x_validate, pd.DataFrame)"
   ]
  },
  {
   "cell_type": "code",
   "execution_count": null,
   "metadata": {},
   "outputs": [],
   "source": []
  },
  {
   "cell_type": "markdown",
   "metadata": {},
   "source": [
    "## Exercises\n",
    "\n",
    "Continue working in your `model` file with titanic data to do the following: \n",
    "\n"
   ]
  },
  {
   "cell_type": "markdown",
   "metadata": {},
   "source": [
    "1. Fit the Random Forest classifier to your training sample and transform (i.e. make predictions on the training sample) setting the random_state accordingly and setting min_samples_leaf = 1 and max_depth = 10.\n",
    "\n"
   ]
  },
  {
   "cell_type": "code",
   "execution_count": 36,
   "metadata": {},
   "outputs": [],
   "source": [
    "rf = RandomForestClassifier(max_depth=10,\n",
    "                            min_samples_leaf = 1,\n",
    "                            random_state=123)"
   ]
  },
  {
   "cell_type": "code",
   "execution_count": 37,
   "metadata": {},
   "outputs": [
    {
     "data": {
      "text/html": [
       "<style>#sk-container-id-3 {color: black;background-color: white;}#sk-container-id-3 pre{padding: 0;}#sk-container-id-3 div.sk-toggleable {background-color: white;}#sk-container-id-3 label.sk-toggleable__label {cursor: pointer;display: block;width: 100%;margin-bottom: 0;padding: 0.3em;box-sizing: border-box;text-align: center;}#sk-container-id-3 label.sk-toggleable__label-arrow:before {content: \"▸\";float: left;margin-right: 0.25em;color: #696969;}#sk-container-id-3 label.sk-toggleable__label-arrow:hover:before {color: black;}#sk-container-id-3 div.sk-estimator:hover label.sk-toggleable__label-arrow:before {color: black;}#sk-container-id-3 div.sk-toggleable__content {max-height: 0;max-width: 0;overflow: hidden;text-align: left;background-color: #f0f8ff;}#sk-container-id-3 div.sk-toggleable__content pre {margin: 0.2em;color: black;border-radius: 0.25em;background-color: #f0f8ff;}#sk-container-id-3 input.sk-toggleable__control:checked~div.sk-toggleable__content {max-height: 200px;max-width: 100%;overflow: auto;}#sk-container-id-3 input.sk-toggleable__control:checked~label.sk-toggleable__label-arrow:before {content: \"▾\";}#sk-container-id-3 div.sk-estimator input.sk-toggleable__control:checked~label.sk-toggleable__label {background-color: #d4ebff;}#sk-container-id-3 div.sk-label input.sk-toggleable__control:checked~label.sk-toggleable__label {background-color: #d4ebff;}#sk-container-id-3 input.sk-hidden--visually {border: 0;clip: rect(1px 1px 1px 1px);clip: rect(1px, 1px, 1px, 1px);height: 1px;margin: -1px;overflow: hidden;padding: 0;position: absolute;width: 1px;}#sk-container-id-3 div.sk-estimator {font-family: monospace;background-color: #f0f8ff;border: 1px dotted black;border-radius: 0.25em;box-sizing: border-box;margin-bottom: 0.5em;}#sk-container-id-3 div.sk-estimator:hover {background-color: #d4ebff;}#sk-container-id-3 div.sk-parallel-item::after {content: \"\";width: 100%;border-bottom: 1px solid gray;flex-grow: 1;}#sk-container-id-3 div.sk-label:hover label.sk-toggleable__label {background-color: #d4ebff;}#sk-container-id-3 div.sk-serial::before {content: \"\";position: absolute;border-left: 1px solid gray;box-sizing: border-box;top: 0;bottom: 0;left: 50%;z-index: 0;}#sk-container-id-3 div.sk-serial {display: flex;flex-direction: column;align-items: center;background-color: white;padding-right: 0.2em;padding-left: 0.2em;position: relative;}#sk-container-id-3 div.sk-item {position: relative;z-index: 1;}#sk-container-id-3 div.sk-parallel {display: flex;align-items: stretch;justify-content: center;background-color: white;position: relative;}#sk-container-id-3 div.sk-item::before, #sk-container-id-3 div.sk-parallel-item::before {content: \"\";position: absolute;border-left: 1px solid gray;box-sizing: border-box;top: 0;bottom: 0;left: 50%;z-index: -1;}#sk-container-id-3 div.sk-parallel-item {display: flex;flex-direction: column;z-index: 1;position: relative;background-color: white;}#sk-container-id-3 div.sk-parallel-item:first-child::after {align-self: flex-end;width: 50%;}#sk-container-id-3 div.sk-parallel-item:last-child::after {align-self: flex-start;width: 50%;}#sk-container-id-3 div.sk-parallel-item:only-child::after {width: 0;}#sk-container-id-3 div.sk-dashed-wrapped {border: 1px dashed gray;margin: 0 0.4em 0.5em 0.4em;box-sizing: border-box;padding-bottom: 0.4em;background-color: white;}#sk-container-id-3 div.sk-label label {font-family: monospace;font-weight: bold;display: inline-block;line-height: 1.2em;}#sk-container-id-3 div.sk-label-container {text-align: center;}#sk-container-id-3 div.sk-container {/* jupyter's `normalize.less` sets `[hidden] { display: none; }` but bootstrap.min.css set `[hidden] { display: none !important; }` so we also need the `!important` here to be able to override the default hidden behavior on the sphinx rendered scikit-learn.org. See: https://github.com/scikit-learn/scikit-learn/issues/21755 */display: inline-block !important;position: relative;}#sk-container-id-3 div.sk-text-repr-fallback {display: none;}</style><div id=\"sk-container-id-3\" class=\"sk-top-container\"><div class=\"sk-text-repr-fallback\"><pre>RandomForestClassifier(max_depth=10, random_state=123)</pre><b>In a Jupyter environment, please rerun this cell to show the HTML representation or trust the notebook. <br />On GitHub, the HTML representation is unable to render, please try loading this page with nbviewer.org.</b></div><div class=\"sk-container\" hidden><div class=\"sk-item\"><div class=\"sk-estimator sk-toggleable\"><input class=\"sk-toggleable__control sk-hidden--visually\" id=\"sk-estimator-id-3\" type=\"checkbox\" checked><label for=\"sk-estimator-id-3\" class=\"sk-toggleable__label sk-toggleable__label-arrow\">RandomForestClassifier</label><div class=\"sk-toggleable__content\"><pre>RandomForestClassifier(max_depth=10, random_state=123)</pre></div></div></div></div></div>"
      ],
      "text/plain": [
       "RandomForestClassifier(max_depth=10, random_state=123)"
      ]
     },
     "execution_count": 37,
     "metadata": {},
     "output_type": "execute_result"
    }
   ],
   "source": [
    "rf.fit(x_train, y_train)"
   ]
  },
  {
   "cell_type": "code",
   "execution_count": 38,
   "metadata": {},
   "outputs": [
    {
     "data": {
      "text/plain": [
       "0.9197"
      ]
     },
     "execution_count": 38,
     "metadata": {},
     "output_type": "execute_result"
    }
   ],
   "source": [
    "round( rf.score(x_train, y_train), 4)"
   ]
  },
  {
   "cell_type": "markdown",
   "metadata": {},
   "source": [
    "2. Evaluate your results using the model score, confusion matrix, and classification report.\n",
    "\n"
   ]
  },
  {
   "cell_type": "code",
   "execution_count": 41,
   "metadata": {},
   "outputs": [
    {
     "data": {
      "text/plain": [
       "array([[284,  18],\n",
       "       [ 22, 174]], dtype=int64)"
      ]
     },
     "execution_count": 41,
     "metadata": {},
     "output_type": "execute_result"
    }
   ],
   "source": [
    "predictions = rf.predict(x_train)\n",
    "actual = y_train\n",
    "\n",
    "confusion_matrix(actual, predictions)"
   ]
  },
  {
   "cell_type": "code",
   "execution_count": 43,
   "metadata": {},
   "outputs": [
    {
     "data": {
      "text/html": [
       "<div>\n",
       "<style scoped>\n",
       "    .dataframe tbody tr th:only-of-type {\n",
       "        vertical-align: middle;\n",
       "    }\n",
       "\n",
       "    .dataframe tbody tr th {\n",
       "        vertical-align: top;\n",
       "    }\n",
       "\n",
       "    .dataframe thead th {\n",
       "        text-align: right;\n",
       "    }\n",
       "</style>\n",
       "<table border=\"1\" class=\"dataframe\">\n",
       "  <thead>\n",
       "    <tr style=\"text-align: right;\">\n",
       "      <th></th>\n",
       "      <th>0</th>\n",
       "      <th>1</th>\n",
       "      <th>accuracy</th>\n",
       "      <th>macro avg</th>\n",
       "      <th>weighted avg</th>\n",
       "    </tr>\n",
       "  </thead>\n",
       "  <tbody>\n",
       "    <tr>\n",
       "      <th>precision</th>\n",
       "      <td>0.928105</td>\n",
       "      <td>0.906250</td>\n",
       "      <td>0.919679</td>\n",
       "      <td>0.917177</td>\n",
       "      <td>0.919503</td>\n",
       "    </tr>\n",
       "    <tr>\n",
       "      <th>recall</th>\n",
       "      <td>0.940397</td>\n",
       "      <td>0.887755</td>\n",
       "      <td>0.919679</td>\n",
       "      <td>0.914076</td>\n",
       "      <td>0.919679</td>\n",
       "    </tr>\n",
       "    <tr>\n",
       "      <th>f1-score</th>\n",
       "      <td>0.934211</td>\n",
       "      <td>0.896907</td>\n",
       "      <td>0.919679</td>\n",
       "      <td>0.915559</td>\n",
       "      <td>0.919529</td>\n",
       "    </tr>\n",
       "    <tr>\n",
       "      <th>support</th>\n",
       "      <td>302.000000</td>\n",
       "      <td>196.000000</td>\n",
       "      <td>0.919679</td>\n",
       "      <td>498.000000</td>\n",
       "      <td>498.000000</td>\n",
       "    </tr>\n",
       "  </tbody>\n",
       "</table>\n",
       "</div>"
      ],
      "text/plain": [
       "                    0           1  accuracy   macro avg  weighted avg\n",
       "precision    0.928105    0.906250  0.919679    0.917177      0.919503\n",
       "recall       0.940397    0.887755  0.919679    0.914076      0.919679\n",
       "f1-score     0.934211    0.896907  0.919679    0.915559      0.919529\n",
       "support    302.000000  196.000000  0.919679  498.000000    498.000000"
      ]
     },
     "execution_count": 43,
     "metadata": {},
     "output_type": "execute_result"
    }
   ],
   "source": [
    "pd.DataFrame(classification_report(actual, predictions, output_dict=True))"
   ]
  },
  {
   "cell_type": "markdown",
   "metadata": {},
   "source": [
    "3. Print and clearly label the following:  Accuracy, true positive rate, false positive rate, true negative rate, false negative rate, precision, recall, f1-score, and support.\n",
    "\n"
   ]
  },
  {
   "cell_type": "code",
   "execution_count": 44,
   "metadata": {},
   "outputs": [
    {
     "data": {
      "text/plain": [
       "{'accuracy': 0.9196787148594378,\n",
       " 'true_positive_rate': 0.90625,\n",
       " 'false_positive_rate': 0.09375,\n",
       " 'true_negative_rate': 0.9281045751633987,\n",
       " 'false_negative_rate': 0.0718954248366013,\n",
       " 'precision': 0.90625,\n",
       " 'recall': 0.8877551020408163,\n",
       " 'f1-score': 0.8969072164948454,\n",
       " 'support_negative': 302,\n",
       " 'support_positive': 196}"
      ]
     },
     "execution_count": 44,
     "metadata": {},
     "output_type": "execute_result"
    }
   ],
   "source": [
    "binary_classifier_stats(actual, predictions)"
   ]
  },
  {
   "cell_type": "markdown",
   "metadata": {},
   "source": [
    "4. Run through steps increasing your min_samples_leaf and decreasing your max_depth. \n",
    "\n"
   ]
  },
  {
   "cell_type": "code",
   "execution_count": 56,
   "metadata": {},
   "outputs": [],
   "source": [
    "import itertools\n",
    "depths = range(1,11)\n",
    "min_leafs = range(1,11)\n",
    "combos = list(itertools.product(depths, min_leafs))\n",
    "\n",
    "metrics = []\n",
    "for depth, min_leaf in combos:\n",
    "    # Make the model and fit it on train data\n",
    "    rf = RandomForestClassifier(max_depth= depth,\n",
    "                                min_samples_leaf = min_leaf,\n",
    "                                random_state=123)\n",
    "    rf.fit(x_train, y_train)\n",
    "\n",
    "    #Predict on train data and score it\n",
    "    predictions = rf.predict(x_train)\n",
    "    stats = binary_classifier_stats(y_train, predictions)\n",
    "    stats['combo'] = (depth, min_leaf)\n",
    "    stats['depth'] = depth\n",
    "    stats['min_leaf'] = min_leaf\n",
    "    metrics.append(stats)\n"
   ]
  },
  {
   "cell_type": "code",
   "execution_count": 57,
   "metadata": {},
   "outputs": [
    {
     "data": {
      "text/html": [
       "<div>\n",
       "<style scoped>\n",
       "    .dataframe tbody tr th:only-of-type {\n",
       "        vertical-align: middle;\n",
       "    }\n",
       "\n",
       "    .dataframe tbody tr th {\n",
       "        vertical-align: top;\n",
       "    }\n",
       "\n",
       "    .dataframe thead th {\n",
       "        text-align: right;\n",
       "    }\n",
       "</style>\n",
       "<table border=\"1\" class=\"dataframe\">\n",
       "  <thead>\n",
       "    <tr style=\"text-align: right;\">\n",
       "      <th></th>\n",
       "      <th>accuracy</th>\n",
       "      <th>true_positive_rate</th>\n",
       "      <th>false_positive_rate</th>\n",
       "      <th>true_negative_rate</th>\n",
       "      <th>false_negative_rate</th>\n",
       "      <th>precision</th>\n",
       "      <th>recall</th>\n",
       "      <th>f1-score</th>\n",
       "      <th>support_negative</th>\n",
       "      <th>support_positive</th>\n",
       "      <th>combo</th>\n",
       "      <th>depth</th>\n",
       "      <th>min_leaf</th>\n",
       "    </tr>\n",
       "  </thead>\n",
       "  <tbody>\n",
       "    <tr>\n",
       "      <th>0</th>\n",
       "      <td>0.76506</td>\n",
       "      <td>0.796992</td>\n",
       "      <td>0.203008</td>\n",
       "      <td>0.753425</td>\n",
       "      <td>0.246575</td>\n",
       "      <td>0.796992</td>\n",
       "      <td>0.540816</td>\n",
       "      <td>0.644377</td>\n",
       "      <td>302</td>\n",
       "      <td>196</td>\n",
       "      <td>(1, 1)</td>\n",
       "      <td>1</td>\n",
       "      <td>1</td>\n",
       "    </tr>\n",
       "    <tr>\n",
       "      <th>1</th>\n",
       "      <td>0.76506</td>\n",
       "      <td>0.796992</td>\n",
       "      <td>0.203008</td>\n",
       "      <td>0.753425</td>\n",
       "      <td>0.246575</td>\n",
       "      <td>0.796992</td>\n",
       "      <td>0.540816</td>\n",
       "      <td>0.644377</td>\n",
       "      <td>302</td>\n",
       "      <td>196</td>\n",
       "      <td>(1, 2)</td>\n",
       "      <td>1</td>\n",
       "      <td>2</td>\n",
       "    </tr>\n",
       "    <tr>\n",
       "      <th>2</th>\n",
       "      <td>0.76506</td>\n",
       "      <td>0.796992</td>\n",
       "      <td>0.203008</td>\n",
       "      <td>0.753425</td>\n",
       "      <td>0.246575</td>\n",
       "      <td>0.796992</td>\n",
       "      <td>0.540816</td>\n",
       "      <td>0.644377</td>\n",
       "      <td>302</td>\n",
       "      <td>196</td>\n",
       "      <td>(1, 3)</td>\n",
       "      <td>1</td>\n",
       "      <td>3</td>\n",
       "    </tr>\n",
       "    <tr>\n",
       "      <th>3</th>\n",
       "      <td>0.76506</td>\n",
       "      <td>0.796992</td>\n",
       "      <td>0.203008</td>\n",
       "      <td>0.753425</td>\n",
       "      <td>0.246575</td>\n",
       "      <td>0.796992</td>\n",
       "      <td>0.540816</td>\n",
       "      <td>0.644377</td>\n",
       "      <td>302</td>\n",
       "      <td>196</td>\n",
       "      <td>(1, 4)</td>\n",
       "      <td>1</td>\n",
       "      <td>4</td>\n",
       "    </tr>\n",
       "    <tr>\n",
       "      <th>4</th>\n",
       "      <td>0.76506</td>\n",
       "      <td>0.796992</td>\n",
       "      <td>0.203008</td>\n",
       "      <td>0.753425</td>\n",
       "      <td>0.246575</td>\n",
       "      <td>0.796992</td>\n",
       "      <td>0.540816</td>\n",
       "      <td>0.644377</td>\n",
       "      <td>302</td>\n",
       "      <td>196</td>\n",
       "      <td>(1, 5)</td>\n",
       "      <td>1</td>\n",
       "      <td>5</td>\n",
       "    </tr>\n",
       "  </tbody>\n",
       "</table>\n",
       "</div>"
      ],
      "text/plain": [
       "   accuracy  true_positive_rate  false_positive_rate  true_negative_rate  \\\n",
       "0   0.76506            0.796992             0.203008            0.753425   \n",
       "1   0.76506            0.796992             0.203008            0.753425   \n",
       "2   0.76506            0.796992             0.203008            0.753425   \n",
       "3   0.76506            0.796992             0.203008            0.753425   \n",
       "4   0.76506            0.796992             0.203008            0.753425   \n",
       "\n",
       "   false_negative_rate  precision    recall  f1-score  support_negative  \\\n",
       "0             0.246575   0.796992  0.540816  0.644377               302   \n",
       "1             0.246575   0.796992  0.540816  0.644377               302   \n",
       "2             0.246575   0.796992  0.540816  0.644377               302   \n",
       "3             0.246575   0.796992  0.540816  0.644377               302   \n",
       "4             0.246575   0.796992  0.540816  0.644377               302   \n",
       "\n",
       "   support_positive   combo  depth  min_leaf  \n",
       "0               196  (1, 1)      1         1  \n",
       "1               196  (1, 2)      1         2  \n",
       "2               196  (1, 3)      1         3  \n",
       "3               196  (1, 4)      1         4  \n",
       "4               196  (1, 5)      1         5  "
      ]
     },
     "execution_count": 57,
     "metadata": {},
     "output_type": "execute_result"
    }
   ],
   "source": [
    "\n",
    "df = pd.DataFrame(metrics)\n",
    "df.head()"
   ]
  },
  {
   "cell_type": "code",
   "execution_count": null,
   "metadata": {},
   "outputs": [
    {
     "data": {
      "text/html": [
       "<div>\n",
       "<style scoped>\n",
       "    .dataframe tbody tr th:only-of-type {\n",
       "        vertical-align: middle;\n",
       "    }\n",
       "\n",
       "    .dataframe tbody tr th {\n",
       "        vertical-align: top;\n",
       "    }\n",
       "\n",
       "    .dataframe thead th {\n",
       "        text-align: right;\n",
       "    }\n",
       "</style>\n",
       "<table border=\"1\" class=\"dataframe\">\n",
       "  <thead>\n",
       "    <tr style=\"text-align: right;\">\n",
       "      <th></th>\n",
       "      <th>accuracy</th>\n",
       "      <th>true_positive_rate</th>\n",
       "      <th>false_positive_rate</th>\n",
       "      <th>true_negative_rate</th>\n",
       "      <th>false_negative_rate</th>\n",
       "      <th>precision</th>\n",
       "      <th>recall</th>\n",
       "      <th>f1-score</th>\n",
       "      <th>support_negative</th>\n",
       "      <th>support_positive</th>\n",
       "      <th>combo</th>\n",
       "      <th>depth</th>\n",
       "      <th>min_leaf</th>\n",
       "    </tr>\n",
       "  </thead>\n",
       "  <tbody>\n",
       "    <tr>\n",
       "      <th>0</th>\n",
       "      <td>0.76506</td>\n",
       "      <td>0.796992</td>\n",
       "      <td>0.203008</td>\n",
       "      <td>0.753425</td>\n",
       "      <td>0.246575</td>\n",
       "      <td>0.796992</td>\n",
       "      <td>0.540816</td>\n",
       "      <td>0.644377</td>\n",
       "      <td>302</td>\n",
       "      <td>196</td>\n",
       "      <td>(1, 1)</td>\n",
       "      <td>1</td>\n",
       "      <td>1</td>\n",
       "    </tr>\n",
       "    <tr>\n",
       "      <th>1</th>\n",
       "      <td>0.76506</td>\n",
       "      <td>0.796992</td>\n",
       "      <td>0.203008</td>\n",
       "      <td>0.753425</td>\n",
       "      <td>0.246575</td>\n",
       "      <td>0.796992</td>\n",
       "      <td>0.540816</td>\n",
       "      <td>0.644377</td>\n",
       "      <td>302</td>\n",
       "      <td>196</td>\n",
       "      <td>(1, 2)</td>\n",
       "      <td>1</td>\n",
       "      <td>2</td>\n",
       "    </tr>\n",
       "    <tr>\n",
       "      <th>2</th>\n",
       "      <td>0.76506</td>\n",
       "      <td>0.796992</td>\n",
       "      <td>0.203008</td>\n",
       "      <td>0.753425</td>\n",
       "      <td>0.246575</td>\n",
       "      <td>0.796992</td>\n",
       "      <td>0.540816</td>\n",
       "      <td>0.644377</td>\n",
       "      <td>302</td>\n",
       "      <td>196</td>\n",
       "      <td>(1, 3)</td>\n",
       "      <td>1</td>\n",
       "      <td>3</td>\n",
       "    </tr>\n",
       "    <tr>\n",
       "      <th>3</th>\n",
       "      <td>0.76506</td>\n",
       "      <td>0.796992</td>\n",
       "      <td>0.203008</td>\n",
       "      <td>0.753425</td>\n",
       "      <td>0.246575</td>\n",
       "      <td>0.796992</td>\n",
       "      <td>0.540816</td>\n",
       "      <td>0.644377</td>\n",
       "      <td>302</td>\n",
       "      <td>196</td>\n",
       "      <td>(1, 4)</td>\n",
       "      <td>1</td>\n",
       "      <td>4</td>\n",
       "    </tr>\n",
       "    <tr>\n",
       "      <th>4</th>\n",
       "      <td>0.76506</td>\n",
       "      <td>0.796992</td>\n",
       "      <td>0.203008</td>\n",
       "      <td>0.753425</td>\n",
       "      <td>0.246575</td>\n",
       "      <td>0.796992</td>\n",
       "      <td>0.540816</td>\n",
       "      <td>0.644377</td>\n",
       "      <td>302</td>\n",
       "      <td>196</td>\n",
       "      <td>(1, 5)</td>\n",
       "      <td>1</td>\n",
       "      <td>5</td>\n",
       "    </tr>\n",
       "  </tbody>\n",
       "</table>\n",
       "</div>"
      ],
      "text/plain": [
       "   accuracy  true_positive_rate  false_positive_rate  true_negative_rate  \\\n",
       "0   0.76506            0.796992             0.203008            0.753425   \n",
       "1   0.76506            0.796992             0.203008            0.753425   \n",
       "2   0.76506            0.796992             0.203008            0.753425   \n",
       "3   0.76506            0.796992             0.203008            0.753425   \n",
       "4   0.76506            0.796992             0.203008            0.753425   \n",
       "\n",
       "   false_negative_rate  precision    recall  f1-score  support_negative  \\\n",
       "0             0.246575   0.796992  0.540816  0.644377               302   \n",
       "1             0.246575   0.796992  0.540816  0.644377               302   \n",
       "2             0.246575   0.796992  0.540816  0.644377               302   \n",
       "3             0.246575   0.796992  0.540816  0.644377               302   \n",
       "4             0.246575   0.796992  0.540816  0.644377               302   \n",
       "\n",
       "   support_positive   combo  depth  min_leaf  \n",
       "0               196  (1, 1)      1         1  \n",
       "1               196  (1, 2)      1         2  \n",
       "2               196  (1, 3)      1         3  \n",
       "3               196  (1, 4)      1         4  \n",
       "4               196  (1, 5)      1         5  "
      ]
     },
     "metadata": {},
     "output_type": "display_data"
    }
   ],
   "source": [
    "\n",
    "df = pd.DataFrame(metrics)\n",
    "df.head()"
   ]
  },
  {
   "cell_type": "code",
   "execution_count": null,
   "metadata": {},
   "outputs": [
    {
     "data": {
      "text/html": [
       "<div>\n",
       "<style scoped>\n",
       "    .dataframe tbody tr th:only-of-type {\n",
       "        vertical-align: middle;\n",
       "    }\n",
       "\n",
       "    .dataframe tbody tr th {\n",
       "        vertical-align: top;\n",
       "    }\n",
       "\n",
       "    .dataframe thead th {\n",
       "        text-align: right;\n",
       "    }\n",
       "</style>\n",
       "<table border=\"1\" class=\"dataframe\">\n",
       "  <thead>\n",
       "    <tr style=\"text-align: right;\">\n",
       "      <th></th>\n",
       "      <th>accuracy</th>\n",
       "      <th>true_positive_rate</th>\n",
       "      <th>false_positive_rate</th>\n",
       "      <th>true_negative_rate</th>\n",
       "      <th>false_negative_rate</th>\n",
       "      <th>precision</th>\n",
       "      <th>recall</th>\n",
       "      <th>f1-score</th>\n",
       "      <th>support_negative</th>\n",
       "      <th>support_positive</th>\n",
       "      <th>combo</th>\n",
       "      <th>depth</th>\n",
       "      <th>min_leaf</th>\n",
       "    </tr>\n",
       "  </thead>\n",
       "  <tbody>\n",
       "    <tr>\n",
       "      <th>0</th>\n",
       "      <td>0.76506</td>\n",
       "      <td>0.796992</td>\n",
       "      <td>0.203008</td>\n",
       "      <td>0.753425</td>\n",
       "      <td>0.246575</td>\n",
       "      <td>0.796992</td>\n",
       "      <td>0.540816</td>\n",
       "      <td>0.644377</td>\n",
       "      <td>302</td>\n",
       "      <td>196</td>\n",
       "      <td>(1, 1)</td>\n",
       "      <td>1</td>\n",
       "      <td>1</td>\n",
       "    </tr>\n",
       "    <tr>\n",
       "      <th>1</th>\n",
       "      <td>0.76506</td>\n",
       "      <td>0.796992</td>\n",
       "      <td>0.203008</td>\n",
       "      <td>0.753425</td>\n",
       "      <td>0.246575</td>\n",
       "      <td>0.796992</td>\n",
       "      <td>0.540816</td>\n",
       "      <td>0.644377</td>\n",
       "      <td>302</td>\n",
       "      <td>196</td>\n",
       "      <td>(1, 2)</td>\n",
       "      <td>1</td>\n",
       "      <td>2</td>\n",
       "    </tr>\n",
       "    <tr>\n",
       "      <th>2</th>\n",
       "      <td>0.76506</td>\n",
       "      <td>0.796992</td>\n",
       "      <td>0.203008</td>\n",
       "      <td>0.753425</td>\n",
       "      <td>0.246575</td>\n",
       "      <td>0.796992</td>\n",
       "      <td>0.540816</td>\n",
       "      <td>0.644377</td>\n",
       "      <td>302</td>\n",
       "      <td>196</td>\n",
       "      <td>(1, 3)</td>\n",
       "      <td>1</td>\n",
       "      <td>3</td>\n",
       "    </tr>\n",
       "    <tr>\n",
       "      <th>3</th>\n",
       "      <td>0.76506</td>\n",
       "      <td>0.796992</td>\n",
       "      <td>0.203008</td>\n",
       "      <td>0.753425</td>\n",
       "      <td>0.246575</td>\n",
       "      <td>0.796992</td>\n",
       "      <td>0.540816</td>\n",
       "      <td>0.644377</td>\n",
       "      <td>302</td>\n",
       "      <td>196</td>\n",
       "      <td>(1, 4)</td>\n",
       "      <td>1</td>\n",
       "      <td>4</td>\n",
       "    </tr>\n",
       "    <tr>\n",
       "      <th>4</th>\n",
       "      <td>0.76506</td>\n",
       "      <td>0.796992</td>\n",
       "      <td>0.203008</td>\n",
       "      <td>0.753425</td>\n",
       "      <td>0.246575</td>\n",
       "      <td>0.796992</td>\n",
       "      <td>0.540816</td>\n",
       "      <td>0.644377</td>\n",
       "      <td>302</td>\n",
       "      <td>196</td>\n",
       "      <td>(1, 5)</td>\n",
       "      <td>1</td>\n",
       "      <td>5</td>\n",
       "    </tr>\n",
       "  </tbody>\n",
       "</table>\n",
       "</div>"
      ],
      "text/plain": [
       "   accuracy  true_positive_rate  false_positive_rate  true_negative_rate  \\\n",
       "0   0.76506            0.796992             0.203008            0.753425   \n",
       "1   0.76506            0.796992             0.203008            0.753425   \n",
       "2   0.76506            0.796992             0.203008            0.753425   \n",
       "3   0.76506            0.796992             0.203008            0.753425   \n",
       "4   0.76506            0.796992             0.203008            0.753425   \n",
       "\n",
       "   false_negative_rate  precision    recall  f1-score  support_negative  \\\n",
       "0             0.246575   0.796992  0.540816  0.644377               302   \n",
       "1             0.246575   0.796992  0.540816  0.644377               302   \n",
       "2             0.246575   0.796992  0.540816  0.644377               302   \n",
       "3             0.246575   0.796992  0.540816  0.644377               302   \n",
       "4             0.246575   0.796992  0.540816  0.644377               302   \n",
       "\n",
       "   support_positive   combo  depth  min_leaf  \n",
       "0               196  (1, 1)      1         1  \n",
       "1               196  (1, 2)      1         2  \n",
       "2               196  (1, 3)      1         3  \n",
       "3               196  (1, 4)      1         4  \n",
       "4               196  (1, 5)      1         5  "
      ]
     },
     "metadata": {},
     "output_type": "display_data"
    }
   ],
   "source": [
    "\n",
    "df = pd.DataFrame(metrics)\n",
    "df.head()"
   ]
  },
  {
   "cell_type": "code",
   "execution_count": 58,
   "metadata": {},
   "outputs": [
    {
     "data": {
      "text/html": [
       "<div>\n",
       "<style scoped>\n",
       "    .dataframe tbody tr th:only-of-type {\n",
       "        vertical-align: middle;\n",
       "    }\n",
       "\n",
       "    .dataframe tbody tr th {\n",
       "        vertical-align: top;\n",
       "    }\n",
       "\n",
       "    .dataframe thead th {\n",
       "        text-align: right;\n",
       "    }\n",
       "</style>\n",
       "<table border=\"1\" class=\"dataframe\">\n",
       "  <thead>\n",
       "    <tr style=\"text-align: right;\">\n",
       "      <th></th>\n",
       "      <th>accuracy</th>\n",
       "      <th>true_positive_rate</th>\n",
       "      <th>false_positive_rate</th>\n",
       "      <th>true_negative_rate</th>\n",
       "      <th>false_negative_rate</th>\n",
       "      <th>precision</th>\n",
       "      <th>recall</th>\n",
       "      <th>f1-score</th>\n",
       "      <th>support_negative</th>\n",
       "      <th>support_positive</th>\n",
       "      <th>combo</th>\n",
       "      <th>depth</th>\n",
       "      <th>min_leaf</th>\n",
       "    </tr>\n",
       "  </thead>\n",
       "  <tbody>\n",
       "    <tr>\n",
       "      <th>90</th>\n",
       "      <td>0.919679</td>\n",
       "      <td>0.906250</td>\n",
       "      <td>0.093750</td>\n",
       "      <td>0.928105</td>\n",
       "      <td>0.071895</td>\n",
       "      <td>0.906250</td>\n",
       "      <td>0.887755</td>\n",
       "      <td>0.896907</td>\n",
       "      <td>302</td>\n",
       "      <td>196</td>\n",
       "      <td>(10, 1)</td>\n",
       "      <td>10</td>\n",
       "      <td>1</td>\n",
       "    </tr>\n",
       "    <tr>\n",
       "      <th>70</th>\n",
       "      <td>0.913655</td>\n",
       "      <td>0.922652</td>\n",
       "      <td>0.077348</td>\n",
       "      <td>0.908517</td>\n",
       "      <td>0.091483</td>\n",
       "      <td>0.922652</td>\n",
       "      <td>0.852041</td>\n",
       "      <td>0.885942</td>\n",
       "      <td>302</td>\n",
       "      <td>196</td>\n",
       "      <td>(8, 1)</td>\n",
       "      <td>8</td>\n",
       "      <td>1</td>\n",
       "    </tr>\n",
       "    <tr>\n",
       "      <th>80</th>\n",
       "      <td>0.913655</td>\n",
       "      <td>0.922652</td>\n",
       "      <td>0.077348</td>\n",
       "      <td>0.908517</td>\n",
       "      <td>0.091483</td>\n",
       "      <td>0.922652</td>\n",
       "      <td>0.852041</td>\n",
       "      <td>0.885942</td>\n",
       "      <td>302</td>\n",
       "      <td>196</td>\n",
       "      <td>(9, 1)</td>\n",
       "      <td>9</td>\n",
       "      <td>1</td>\n",
       "    </tr>\n",
       "    <tr>\n",
       "      <th>60</th>\n",
       "      <td>0.901606</td>\n",
       "      <td>0.906077</td>\n",
       "      <td>0.093923</td>\n",
       "      <td>0.899054</td>\n",
       "      <td>0.100946</td>\n",
       "      <td>0.906077</td>\n",
       "      <td>0.836735</td>\n",
       "      <td>0.870027</td>\n",
       "      <td>302</td>\n",
       "      <td>196</td>\n",
       "      <td>(7, 1)</td>\n",
       "      <td>7</td>\n",
       "      <td>1</td>\n",
       "    </tr>\n",
       "    <tr>\n",
       "      <th>91</th>\n",
       "      <td>0.889558</td>\n",
       "      <td>0.877005</td>\n",
       "      <td>0.122995</td>\n",
       "      <td>0.897106</td>\n",
       "      <td>0.102894</td>\n",
       "      <td>0.877005</td>\n",
       "      <td>0.836735</td>\n",
       "      <td>0.856397</td>\n",
       "      <td>302</td>\n",
       "      <td>196</td>\n",
       "      <td>(10, 2)</td>\n",
       "      <td>10</td>\n",
       "      <td>2</td>\n",
       "    </tr>\n",
       "    <tr>\n",
       "      <th>...</th>\n",
       "      <td>...</td>\n",
       "      <td>...</td>\n",
       "      <td>...</td>\n",
       "      <td>...</td>\n",
       "      <td>...</td>\n",
       "      <td>...</td>\n",
       "      <td>...</td>\n",
       "      <td>...</td>\n",
       "      <td>...</td>\n",
       "      <td>...</td>\n",
       "      <td>...</td>\n",
       "      <td>...</td>\n",
       "      <td>...</td>\n",
       "    </tr>\n",
       "    <tr>\n",
       "      <th>6</th>\n",
       "      <td>0.765060</td>\n",
       "      <td>0.796992</td>\n",
       "      <td>0.203008</td>\n",
       "      <td>0.753425</td>\n",
       "      <td>0.246575</td>\n",
       "      <td>0.796992</td>\n",
       "      <td>0.540816</td>\n",
       "      <td>0.644377</td>\n",
       "      <td>302</td>\n",
       "      <td>196</td>\n",
       "      <td>(1, 7)</td>\n",
       "      <td>1</td>\n",
       "      <td>7</td>\n",
       "    </tr>\n",
       "    <tr>\n",
       "      <th>7</th>\n",
       "      <td>0.765060</td>\n",
       "      <td>0.796992</td>\n",
       "      <td>0.203008</td>\n",
       "      <td>0.753425</td>\n",
       "      <td>0.246575</td>\n",
       "      <td>0.796992</td>\n",
       "      <td>0.540816</td>\n",
       "      <td>0.644377</td>\n",
       "      <td>302</td>\n",
       "      <td>196</td>\n",
       "      <td>(1, 8)</td>\n",
       "      <td>1</td>\n",
       "      <td>8</td>\n",
       "    </tr>\n",
       "    <tr>\n",
       "      <th>8</th>\n",
       "      <td>0.765060</td>\n",
       "      <td>0.796992</td>\n",
       "      <td>0.203008</td>\n",
       "      <td>0.753425</td>\n",
       "      <td>0.246575</td>\n",
       "      <td>0.796992</td>\n",
       "      <td>0.540816</td>\n",
       "      <td>0.644377</td>\n",
       "      <td>302</td>\n",
       "      <td>196</td>\n",
       "      <td>(1, 9)</td>\n",
       "      <td>1</td>\n",
       "      <td>9</td>\n",
       "    </tr>\n",
       "    <tr>\n",
       "      <th>9</th>\n",
       "      <td>0.765060</td>\n",
       "      <td>0.796992</td>\n",
       "      <td>0.203008</td>\n",
       "      <td>0.753425</td>\n",
       "      <td>0.246575</td>\n",
       "      <td>0.796992</td>\n",
       "      <td>0.540816</td>\n",
       "      <td>0.644377</td>\n",
       "      <td>302</td>\n",
       "      <td>196</td>\n",
       "      <td>(1, 10)</td>\n",
       "      <td>1</td>\n",
       "      <td>10</td>\n",
       "    </tr>\n",
       "    <tr>\n",
       "      <th>0</th>\n",
       "      <td>0.765060</td>\n",
       "      <td>0.796992</td>\n",
       "      <td>0.203008</td>\n",
       "      <td>0.753425</td>\n",
       "      <td>0.246575</td>\n",
       "      <td>0.796992</td>\n",
       "      <td>0.540816</td>\n",
       "      <td>0.644377</td>\n",
       "      <td>302</td>\n",
       "      <td>196</td>\n",
       "      <td>(1, 1)</td>\n",
       "      <td>1</td>\n",
       "      <td>1</td>\n",
       "    </tr>\n",
       "  </tbody>\n",
       "</table>\n",
       "<p>100 rows × 13 columns</p>\n",
       "</div>"
      ],
      "text/plain": [
       "    accuracy  true_positive_rate  false_positive_rate  true_negative_rate  \\\n",
       "90  0.919679            0.906250             0.093750            0.928105   \n",
       "70  0.913655            0.922652             0.077348            0.908517   \n",
       "80  0.913655            0.922652             0.077348            0.908517   \n",
       "60  0.901606            0.906077             0.093923            0.899054   \n",
       "91  0.889558            0.877005             0.122995            0.897106   \n",
       "..       ...                 ...                  ...                 ...   \n",
       "6   0.765060            0.796992             0.203008            0.753425   \n",
       "7   0.765060            0.796992             0.203008            0.753425   \n",
       "8   0.765060            0.796992             0.203008            0.753425   \n",
       "9   0.765060            0.796992             0.203008            0.753425   \n",
       "0   0.765060            0.796992             0.203008            0.753425   \n",
       "\n",
       "    false_negative_rate  precision    recall  f1-score  support_negative  \\\n",
       "90             0.071895   0.906250  0.887755  0.896907               302   \n",
       "70             0.091483   0.922652  0.852041  0.885942               302   \n",
       "80             0.091483   0.922652  0.852041  0.885942               302   \n",
       "60             0.100946   0.906077  0.836735  0.870027               302   \n",
       "91             0.102894   0.877005  0.836735  0.856397               302   \n",
       "..                  ...        ...       ...       ...               ...   \n",
       "6              0.246575   0.796992  0.540816  0.644377               302   \n",
       "7              0.246575   0.796992  0.540816  0.644377               302   \n",
       "8              0.246575   0.796992  0.540816  0.644377               302   \n",
       "9              0.246575   0.796992  0.540816  0.644377               302   \n",
       "0              0.246575   0.796992  0.540816  0.644377               302   \n",
       "\n",
       "    support_positive    combo  depth  min_leaf  \n",
       "90               196  (10, 1)     10         1  \n",
       "70               196   (8, 1)      8         1  \n",
       "80               196   (9, 1)      9         1  \n",
       "60               196   (7, 1)      7         1  \n",
       "91               196  (10, 2)     10         2  \n",
       "..               ...      ...    ...       ...  \n",
       "6                196   (1, 7)      1         7  \n",
       "7                196   (1, 8)      1         8  \n",
       "8                196   (1, 9)      1         9  \n",
       "9                196  (1, 10)      1        10  \n",
       "0                196   (1, 1)      1         1  \n",
       "\n",
       "[100 rows x 13 columns]"
      ]
     },
     "execution_count": 58,
     "metadata": {},
     "output_type": "execute_result"
    }
   ],
   "source": [
    "df.sort_values('accuracy', ascending=False)"
   ]
  },
  {
   "cell_type": "code",
   "execution_count": 65,
   "metadata": {},
   "outputs": [
    {
     "data": {
      "text/plain": [
       "<seaborn.axisgrid.FacetGrid at 0x1e35a55b460>"
      ]
     },
     "execution_count": 65,
     "metadata": {},
     "output_type": "execute_result"
    },
    {
     "data": {
      "image/png": "[encoded data removed]",
      "text/plain": [
       "<Figure size 1490.62x720 with 1 Axes>"
      ]
     },
     "metadata": {
      "needs_background": "light"
     },
     "output_type": "display_data"
    }
   ],
   "source": [
    "sns.relplot(data=df, x='depth', y='accuracy', hue='min_leaf', aspect=2, height=10, kind='line')"
   ]
  },
  {
   "cell_type": "markdown",
   "metadata": {},
   "source": [
    "5. What are the differences in the evaluation metrics?  Which performs better on your in-sample data?  Why?\n"
   ]
  },
  {
   "cell_type": "markdown",
   "metadata": {},
   "source": [
    "\n",
    "After making a few models, which one has the best performance (or closest metrics) on both train and validate?"
   ]
  },
  {
   "cell_type": "code",
   "execution_count": 67,
   "metadata": {},
   "outputs": [],
   "source": [
    "import itertools\n",
    "depths = range(1,11)\n",
    "min_leafs = range(1,11)\n",
    "combos = list(itertools.product(depths, min_leafs))\n"
   ]
  },
  {
   "cell_type": "code",
   "execution_count": 130,
   "metadata": {},
   "outputs": [
    {
     "data": {
      "text/plain": [
       "100"
      ]
     },
     "execution_count": 130,
     "metadata": {},
     "output_type": "execute_result"
    }
   ],
   "source": [
    "len(combos)"
   ]
  },
  {
   "cell_type": "code",
   "execution_count": null,
   "metadata": {},
   "outputs": [],
   "source": [
    "\n",
    "metrics = []\n",
    "for depth, min_leaf in combos:\n",
    "    # Make the model and fit it on train data\n",
    "    rf = RandomForestClassifier(max_depth= depth,\n",
    "                                min_samples_leaf = min_leaf,\n",
    "                                random_state=123)\n",
    "    rf.fit(x_train, y_train)\n",
    "\n",
    "    #Predict on train data and score it\n",
    "    predictions = rf.predict(x_train)\n",
    "    actual = y_train\n",
    "    stats = {\n",
    "        'train_accuracy' : round(rf.score(x_train, y_train), 4),\n",
    "        'validate_accuracy' : round(rf.score(x_validate, y_validate), 4)\n",
    "    }\n",
    "    stats['combo'] = (depth, min_leaf)\n",
    "    stats['depth'] = depth\n",
    "    stats['min_leaf'] = min_leaf\n",
    "    metrics.append(stats)"
   ]
  },
  {
   "cell_type": "code",
   "execution_count": 106,
   "metadata": {},
   "outputs": [
    {
     "data": {
      "text/html": [
       "<div>\n",
       "<style scoped>\n",
       "    .dataframe tbody tr th:only-of-type {\n",
       "        vertical-align: middle;\n",
       "    }\n",
       "\n",
       "    .dataframe tbody tr th {\n",
       "        vertical-align: top;\n",
       "    }\n",
       "\n",
       "    .dataframe thead th {\n",
       "        text-align: right;\n",
       "    }\n",
       "</style>\n",
       "<table border=\"1\" class=\"dataframe\">\n",
       "  <thead>\n",
       "    <tr style=\"text-align: right;\">\n",
       "      <th></th>\n",
       "      <th>train_accuracy</th>\n",
       "      <th>validate_accuracy</th>\n",
       "      <th>combo</th>\n",
       "      <th>depth</th>\n",
       "      <th>min_leaf</th>\n",
       "      <th>difference</th>\n",
       "    </tr>\n",
       "  </thead>\n",
       "  <tbody>\n",
       "    <tr>\n",
       "      <th>0</th>\n",
       "      <td>0.7651</td>\n",
       "      <td>0.7757</td>\n",
       "      <td>(1, 1)</td>\n",
       "      <td>1</td>\n",
       "      <td>1</td>\n",
       "      <td>-0.0106</td>\n",
       "    </tr>\n",
       "    <tr>\n",
       "      <th>1</th>\n",
       "      <td>0.7651</td>\n",
       "      <td>0.7757</td>\n",
       "      <td>(1, 2)</td>\n",
       "      <td>1</td>\n",
       "      <td>2</td>\n",
       "      <td>-0.0106</td>\n",
       "    </tr>\n",
       "    <tr>\n",
       "      <th>2</th>\n",
       "      <td>0.7651</td>\n",
       "      <td>0.7757</td>\n",
       "      <td>(1, 3)</td>\n",
       "      <td>1</td>\n",
       "      <td>3</td>\n",
       "      <td>-0.0106</td>\n",
       "    </tr>\n",
       "    <tr>\n",
       "      <th>3</th>\n",
       "      <td>0.7651</td>\n",
       "      <td>0.7757</td>\n",
       "      <td>(1, 4)</td>\n",
       "      <td>1</td>\n",
       "      <td>4</td>\n",
       "      <td>-0.0106</td>\n",
       "    </tr>\n",
       "    <tr>\n",
       "      <th>4</th>\n",
       "      <td>0.7651</td>\n",
       "      <td>0.7757</td>\n",
       "      <td>(1, 5)</td>\n",
       "      <td>1</td>\n",
       "      <td>5</td>\n",
       "      <td>-0.0106</td>\n",
       "    </tr>\n",
       "  </tbody>\n",
       "</table>\n",
       "</div>"
      ],
      "text/plain": [
       "   train_accuracy  validate_accuracy   combo  depth  min_leaf  difference\n",
       "0          0.7651             0.7757  (1, 1)      1         1     -0.0106\n",
       "1          0.7651             0.7757  (1, 2)      1         2     -0.0106\n",
       "2          0.7651             0.7757  (1, 3)      1         3     -0.0106\n",
       "3          0.7651             0.7757  (1, 4)      1         4     -0.0106\n",
       "4          0.7651             0.7757  (1, 5)      1         5     -0.0106"
      ]
     },
     "execution_count": 106,
     "metadata": {},
     "output_type": "execute_result"
    }
   ],
   "source": [
    "\n",
    "df = pd.DataFrame(metrics)\n",
    "df['difference'] = df.train_accuracy - df.validate_accuracy\n",
    "df.head()"
   ]
  },
  {
   "cell_type": "code",
   "execution_count": 108,
   "metadata": {},
   "outputs": [
    {
     "data": {
      "image/png": "[encoded data removed]",
      "text/plain": [
       "<Figure size 720x72 with 1 Axes>"
      ]
     },
     "metadata": {
      "needs_background": "light"
     },
     "output_type": "display_data"
    }
   ],
   "source": [
    "palette = sns.color_palette('rocket', n_colors=10)\n",
    "palette2 = sns.color_palette('autumn', n_colors=10)\n",
    "# sns.set_palette(palette)\n",
    "sns.palplot(palette)\n"
   ]
  },
  {
   "cell_type": "code",
   "execution_count": 133,
   "metadata": {},
   "outputs": [
    {
     "data": {
      "image/png": "[encoded data removed]",
      "text/plain": [
       "<Figure size 1800x576 with 2 Axes>"
      ]
     },
     "metadata": {
      "needs_background": "light"
     },
     "output_type": "display_data"
    }
   ],
   "source": [
    "fig, (ax1,ax2) = plt.subplots(1,2, figsize=(25,8), sharey=True)\n",
    "sns.lineplot(x=df.depth, y=df.train_accuracy, hue=df.min_leaf, ax=ax1, palette=palette)\n",
    "sns.lineplot(x=df.depth, y=df.validate_accuracy, hue=df.min_leaf, ax=ax2, palette=palette)\n",
    "\n",
    "plt.show()"
   ]
  },
  {
   "cell_type": "code",
   "execution_count": null,
   "metadata": {},
   "outputs": [],
   "source": [
    "pd.options.display.max_rows = 100 #The output will be long\n",
    "df.validate_accuracy = round(df.validate_accuracy, 2)\n",
    "df.difference = round(df.difference, 3)\n"
   ]
  },
  {
   "cell_type": "code",
   "execution_count": 126,
   "metadata": {},
   "outputs": [
    {
     "data": {
      "text/html": [
       "<div>\n",
       "<style scoped>\n",
       "    .dataframe tbody tr th:only-of-type {\n",
       "        vertical-align: middle;\n",
       "    }\n",
       "\n",
       "    .dataframe tbody tr th {\n",
       "        vertical-align: top;\n",
       "    }\n",
       "\n",
       "    .dataframe thead th {\n",
       "        text-align: right;\n",
       "    }\n",
       "</style>\n",
       "<table border=\"1\" class=\"dataframe\">\n",
       "  <thead>\n",
       "    <tr style=\"text-align: right;\">\n",
       "      <th></th>\n",
       "      <th>train_accuracy</th>\n",
       "      <th>validate_accuracy</th>\n",
       "      <th>combo</th>\n",
       "      <th>depth</th>\n",
       "      <th>min_leaf</th>\n",
       "      <th>difference</th>\n",
       "    </tr>\n",
       "  </thead>\n",
       "  <tbody>\n",
       "    <tr>\n",
       "      <th>34</th>\n",
       "      <td>0.8052</td>\n",
       "      <td>0.81</td>\n",
       "      <td>(4, 5)</td>\n",
       "      <td>4</td>\n",
       "      <td>5</td>\n",
       "      <td>-0.003</td>\n",
       "    </tr>\n",
       "    <tr>\n",
       "      <th>46</th>\n",
       "      <td>0.8112</td>\n",
       "      <td>0.81</td>\n",
       "      <td>(5, 7)</td>\n",
       "      <td>5</td>\n",
       "      <td>7</td>\n",
       "      <td>0.003</td>\n",
       "    </tr>\n",
       "    <tr>\n",
       "      <th>35</th>\n",
       "      <td>0.7992</td>\n",
       "      <td>0.80</td>\n",
       "      <td>(4, 6)</td>\n",
       "      <td>4</td>\n",
       "      <td>6</td>\n",
       "      <td>-0.004</td>\n",
       "    </tr>\n",
       "    <tr>\n",
       "      <th>36</th>\n",
       "      <td>0.8072</td>\n",
       "      <td>0.80</td>\n",
       "      <td>(4, 7)</td>\n",
       "      <td>4</td>\n",
       "      <td>7</td>\n",
       "      <td>0.004</td>\n",
       "    </tr>\n",
       "    <tr>\n",
       "      <th>37</th>\n",
       "      <td>0.7992</td>\n",
       "      <td>0.80</td>\n",
       "      <td>(4, 8)</td>\n",
       "      <td>4</td>\n",
       "      <td>8</td>\n",
       "      <td>0.000</td>\n",
       "    </tr>\n",
       "    <tr>\n",
       "      <th>39</th>\n",
       "      <td>0.8032</td>\n",
       "      <td>0.80</td>\n",
       "      <td>(4, 10)</td>\n",
       "      <td>4</td>\n",
       "      <td>10</td>\n",
       "      <td>-0.000</td>\n",
       "    </tr>\n",
       "    <tr>\n",
       "      <th>20</th>\n",
       "      <td>0.7912</td>\n",
       "      <td>0.79</td>\n",
       "      <td>(3, 1)</td>\n",
       "      <td>3</td>\n",
       "      <td>1</td>\n",
       "      <td>-0.003</td>\n",
       "    </tr>\n",
       "    <tr>\n",
       "      <th>21</th>\n",
       "      <td>0.7912</td>\n",
       "      <td>0.79</td>\n",
       "      <td>(3, 2)</td>\n",
       "      <td>3</td>\n",
       "      <td>2</td>\n",
       "      <td>-0.003</td>\n",
       "    </tr>\n",
       "    <tr>\n",
       "      <th>22</th>\n",
       "      <td>0.7932</td>\n",
       "      <td>0.79</td>\n",
       "      <td>(3, 3)</td>\n",
       "      <td>3</td>\n",
       "      <td>3</td>\n",
       "      <td>-0.001</td>\n",
       "    </tr>\n",
       "    <tr>\n",
       "      <th>23</th>\n",
       "      <td>0.7932</td>\n",
       "      <td>0.79</td>\n",
       "      <td>(3, 4)</td>\n",
       "      <td>3</td>\n",
       "      <td>4</td>\n",
       "      <td>-0.001</td>\n",
       "    </tr>\n",
       "    <tr>\n",
       "      <th>24</th>\n",
       "      <td>0.7912</td>\n",
       "      <td>0.79</td>\n",
       "      <td>(3, 5)</td>\n",
       "      <td>3</td>\n",
       "      <td>5</td>\n",
       "      <td>-0.003</td>\n",
       "    </tr>\n",
       "    <tr>\n",
       "      <th>25</th>\n",
       "      <td>0.7912</td>\n",
       "      <td>0.79</td>\n",
       "      <td>(3, 6)</td>\n",
       "      <td>3</td>\n",
       "      <td>6</td>\n",
       "      <td>-0.003</td>\n",
       "    </tr>\n",
       "    <tr>\n",
       "      <th>26</th>\n",
       "      <td>0.7912</td>\n",
       "      <td>0.79</td>\n",
       "      <td>(3, 7)</td>\n",
       "      <td>3</td>\n",
       "      <td>7</td>\n",
       "      <td>-0.003</td>\n",
       "    </tr>\n",
       "    <tr>\n",
       "      <th>27</th>\n",
       "      <td>0.7912</td>\n",
       "      <td>0.79</td>\n",
       "      <td>(3, 8)</td>\n",
       "      <td>3</td>\n",
       "      <td>8</td>\n",
       "      <td>-0.003</td>\n",
       "    </tr>\n",
       "  </tbody>\n",
       "</table>\n",
       "</div>"
      ],
      "text/plain": [
       "    train_accuracy  validate_accuracy    combo  depth  min_leaf  difference\n",
       "34          0.8052               0.81   (4, 5)      4         5      -0.003\n",
       "46          0.8112               0.81   (5, 7)      5         7       0.003\n",
       "35          0.7992               0.80   (4, 6)      4         6      -0.004\n",
       "36          0.8072               0.80   (4, 7)      4         7       0.004\n",
       "37          0.7992               0.80   (4, 8)      4         8       0.000\n",
       "39          0.8032               0.80  (4, 10)      4        10      -0.000\n",
       "20          0.7912               0.79   (3, 1)      3         1      -0.003\n",
       "21          0.7912               0.79   (3, 2)      3         2      -0.003\n",
       "22          0.7932               0.79   (3, 3)      3         3      -0.001\n",
       "23          0.7932               0.79   (3, 4)      3         4      -0.001\n",
       "24          0.7912               0.79   (3, 5)      3         5      -0.003\n",
       "25          0.7912               0.79   (3, 6)      3         6      -0.003\n",
       "26          0.7912               0.79   (3, 7)      3         7      -0.003\n",
       "27          0.7912               0.79   (3, 8)      3         8      -0.003"
      ]
     },
     "execution_count": 126,
     "metadata": {},
     "output_type": "execute_result"
    }
   ],
   "source": [
    "df[abs(df.difference) < .005].sort_values(['validate_accuracy'], ascending=False)"
   ]
  },
  {
   "cell_type": "markdown",
   "metadata": {},
   "source": [
    "> I like (4, 8) the most"
   ]
  },
  {
   "cell_type": "code",
   "execution_count": 128,
   "metadata": {},
   "outputs": [
    {
     "data": {
      "text/plain": [
       "0.8268156424581006"
      ]
     },
     "execution_count": 128,
     "metadata": {},
     "output_type": "execute_result"
    }
   ],
   "source": [
    "rf = RandomForestClassifier(max_depth= 4,\n",
    "                            min_samples_leaf = 8,\n",
    "                            random_state=123)\n",
    "rf.fit(x_train, y_train)\n",
    "x_test, y_test = split_x_y(test, 'survived', features)\n",
    "rf.score(x_test, y_test)"
   ]
  }
 ],
 "metadata": {
  "kernelspec": {
   "display_name": "Python 3.10.4 64-bit",
   "language": "python",
   "name": "python3"
  },
  "language_info": {
   "codemirror_mode": {
    "name": "ipython",
    "version": 3
   },
   "file_extension": ".py",
   "mimetype": "text/x-python",
   "name": "python",
   "nbconvert_exporter": "python",
   "pygments_lexer": "ipython3",
   "version": "3.10.4"
  },
  "orig_nbformat": 4,
  "vscode": {
   "interpreter": {
    "hash": "37b4e1d782780d9803a775659fc8b81e9cc61a0899d4564192c1f7cc3c556e45"
   }
  }
 },
 "nbformat": 4,
 "nbformat_minor": 2
}
